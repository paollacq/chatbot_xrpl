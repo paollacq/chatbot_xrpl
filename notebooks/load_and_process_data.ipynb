{
 "cells": [
  {
   "cell_type": "markdown",
   "id": "aaa2c05b-197c-4fa0-8315-ff4a20312ca6",
   "metadata": {},
   "source": [
    "# Dependencies"
   ]
  },
  {
   "cell_type": "code",
   "execution_count": 1,
   "id": "2cd922d8-dc70-4918-abb6-4ea2592b051a",
   "metadata": {},
   "outputs": [],
   "source": [
    "from langchain.document_loaders import PyPDFLoader, TextLoader\n",
    "from langchain.document_loaders import DirectoryLoader, TextLoader, PyPDFLoader, CSVLoader, Docx2txtLoader\n",
    "from pathlib import Path\n",
    "from langchain.text_splitter import RecursiveCharacterTextSplitter\n",
    "import os\n",
    "import re\n",
    "import pickle"
   ]
  },
  {
   "cell_type": "markdown",
   "id": "45c45049-4e24-47db-9324-2e63ff876826",
   "metadata": {},
   "source": [
    "# Directory with documents"
   ]
  },
  {
   "cell_type": "code",
   "execution_count": 2,
   "id": "11929404-5263-4d86-8c66-9488f537128b",
   "metadata": {},
   "outputs": [],
   "source": [
    "data_dir = '../data/docs'\n",
    "LOCAL_VECTOR_STORE_DIR = Path(\"../data\").resolve().parent.joinpath(\"data\", \"vector_stores\")"
   ]
  },
  {
   "cell_type": "markdown",
   "id": "cf8911b9-dcf4-4c34-9b52-db5c34d8f3b0",
   "metadata": {},
   "source": [
    "# Clear text"
   ]
  },
  {
   "cell_type": "code",
   "execution_count": 3,
   "id": "8cee8895-17ed-478b-87fa-2e14e8aac7fb",
   "metadata": {},
   "outputs": [],
   "source": [
    "def clean_text(text):\n",
    "    return re.sub(r'\\s+', ' ', text).strip()\n"
   ]
  },
  {
   "cell_type": "markdown",
   "id": "8b051cc0-3e78-4b1e-b5d4-451d0c47e926",
   "metadata": {},
   "source": [
    "# Function to load documents"
   ]
  },
  {
   "cell_type": "code",
   "execution_count": 4,
   "id": "5673b42e-f35a-4dc5-bf91-e95bb64ba575",
   "metadata": {},
   "outputs": [
    {
     "name": "stderr",
     "output_type": "stream",
     "text": [
      "0it [00:00, ?it/s]\n",
      "  0%|          | 0/1 [00:00<?, ?it/s]Error loading file ../data/docs/Informações dos cursos.pdf\n"
     ]
    },
    {
     "ename": "ImportError",
     "evalue": "pypdf package not found, please install it with `pip install pypdf`",
     "output_type": "error",
     "traceback": [
      "\u001b[0;31m---------------------------------------------------------------------------\u001b[0m",
      "\u001b[0;31mModuleNotFoundError\u001b[0m                       Traceback (most recent call last)",
      "File \u001b[0;32m~/repos/teste/venv/lib/python3.12/site-packages/langchain_community/document_loaders/pdf.py:236\u001b[0m, in \u001b[0;36mPyPDFLoader.__init__\u001b[0;34m(self, file_path, password, headers, extract_images, extraction_mode, extraction_kwargs)\u001b[0m\n\u001b[1;32m    235\u001b[0m \u001b[38;5;28;01mtry\u001b[39;00m:\n\u001b[0;32m--> 236\u001b[0m     \u001b[38;5;28;01mimport\u001b[39;00m \u001b[38;5;21;01mpypdf\u001b[39;00m  \u001b[38;5;66;03m# noqa:F401\u001b[39;00m\n\u001b[1;32m    237\u001b[0m \u001b[38;5;28;01mexcept\u001b[39;00m \u001b[38;5;167;01mImportError\u001b[39;00m:\n",
      "\u001b[0;31mModuleNotFoundError\u001b[0m: No module named 'pypdf'",
      "\nDuring handling of the above exception, another exception occurred:\n",
      "\u001b[0;31mImportError\u001b[0m                               Traceback (most recent call last)",
      "Cell \u001b[0;32mIn[4], line 47\u001b[0m\n\u001b[1;32m     45\u001b[0m \u001b[38;5;66;03m# Test the function\u001b[39;00m\n\u001b[1;32m     46\u001b[0m data_directory \u001b[38;5;241m=\u001b[39m \u001b[38;5;124m\"\u001b[39m\u001b[38;5;124m../data/docs\u001b[39m\u001b[38;5;124m\"\u001b[39m\n\u001b[0;32m---> 47\u001b[0m loaded_documents \u001b[38;5;241m=\u001b[39m \u001b[43mload_documents\u001b[49m\u001b[43m(\u001b[49m\u001b[43mdata_directory\u001b[49m\u001b[43m)\u001b[49m\n\u001b[1;32m     49\u001b[0m \u001b[38;5;66;03m# Print the number of documents loaded and a preview of the cleaned text\u001b[39;00m\n\u001b[1;32m     50\u001b[0m \u001b[38;5;28mprint\u001b[39m(\u001b[38;5;124mf\u001b[39m\u001b[38;5;124m\"\u001b[39m\u001b[38;5;124mLoaded \u001b[39m\u001b[38;5;132;01m{\u001b[39;00m\u001b[38;5;28mlen\u001b[39m(loaded_documents)\u001b[38;5;132;01m}\u001b[39;00m\u001b[38;5;124m documents.\u001b[39m\u001b[38;5;124m\"\u001b[39m)\n",
      "Cell \u001b[0;32mIn[4], line 21\u001b[0m, in \u001b[0;36mload_documents\u001b[0;34m(data_dir)\u001b[0m\n\u001b[1;32m     17\u001b[0m \u001b[38;5;66;03m# Load pdf files\u001b[39;00m\n\u001b[1;32m     18\u001b[0m pdf_loader \u001b[38;5;241m=\u001b[39m DirectoryLoader(\n\u001b[1;32m     19\u001b[0m     directory\u001b[38;5;241m.\u001b[39mas_posix(), glob\u001b[38;5;241m=\u001b[39m\u001b[38;5;124m\"\u001b[39m\u001b[38;5;124m**/*.pdf\u001b[39m\u001b[38;5;124m\"\u001b[39m, loader_cls\u001b[38;5;241m=\u001b[39mPyPDFLoader, show_progress\u001b[38;5;241m=\u001b[39m\u001b[38;5;28;01mTrue\u001b[39;00m\n\u001b[1;32m     20\u001b[0m )\n\u001b[0;32m---> 21\u001b[0m documents\u001b[38;5;241m.\u001b[39mextend(\u001b[43mpdf_loader\u001b[49m\u001b[38;5;241;43m.\u001b[39;49m\u001b[43mload\u001b[49m\u001b[43m(\u001b[49m\u001b[43m)\u001b[49m)\n\u001b[1;32m     23\u001b[0m \u001b[38;5;66;03m# Load csv files\u001b[39;00m\n\u001b[1;32m     24\u001b[0m csv_loader \u001b[38;5;241m=\u001b[39m DirectoryLoader(\n\u001b[1;32m     25\u001b[0m     directory\u001b[38;5;241m.\u001b[39mas_posix(),\n\u001b[1;32m     26\u001b[0m     glob\u001b[38;5;241m=\u001b[39m\u001b[38;5;124m\"\u001b[39m\u001b[38;5;124m**/*.csv\u001b[39m\u001b[38;5;124m\"\u001b[39m,\n\u001b[0;32m   (...)\u001b[0m\n\u001b[1;32m     29\u001b[0m     loader_kwargs\u001b[38;5;241m=\u001b[39m{\u001b[38;5;124m\"\u001b[39m\u001b[38;5;124mencoding\u001b[39m\u001b[38;5;124m\"\u001b[39m: \u001b[38;5;124m\"\u001b[39m\u001b[38;5;124mutf8\u001b[39m\u001b[38;5;124m\"\u001b[39m}\n\u001b[1;32m     30\u001b[0m )\n",
      "File \u001b[0;32m~/repos/teste/venv/lib/python3.12/site-packages/langchain_community/document_loaders/directory.py:117\u001b[0m, in \u001b[0;36mDirectoryLoader.load\u001b[0;34m(self)\u001b[0m\n\u001b[1;32m    115\u001b[0m \u001b[38;5;28;01mdef\u001b[39;00m \u001b[38;5;21mload\u001b[39m(\u001b[38;5;28mself\u001b[39m) \u001b[38;5;241m-\u001b[39m\u001b[38;5;241m>\u001b[39m List[Document]:\n\u001b[1;32m    116\u001b[0m \u001b[38;5;250m    \u001b[39m\u001b[38;5;124;03m\"\"\"Load documents.\"\"\"\u001b[39;00m\n\u001b[0;32m--> 117\u001b[0m     \u001b[38;5;28;01mreturn\u001b[39;00m \u001b[38;5;28;43mlist\u001b[39;49m\u001b[43m(\u001b[49m\u001b[38;5;28;43mself\u001b[39;49m\u001b[38;5;241;43m.\u001b[39;49m\u001b[43mlazy_load\u001b[49m\u001b[43m(\u001b[49m\u001b[43m)\u001b[49m\u001b[43m)\u001b[49m\n",
      "File \u001b[0;32m~/repos/teste/venv/lib/python3.12/site-packages/langchain_community/document_loaders/directory.py:195\u001b[0m, in \u001b[0;36mDirectoryLoader.lazy_load\u001b[0;34m(self)\u001b[0m\n\u001b[1;32m    193\u001b[0m \u001b[38;5;28;01melse\u001b[39;00m:\n\u001b[1;32m    194\u001b[0m     \u001b[38;5;28;01mfor\u001b[39;00m i \u001b[38;5;129;01min\u001b[39;00m items:\n\u001b[0;32m--> 195\u001b[0m         \u001b[38;5;28;01myield from\u001b[39;00m \u001b[38;5;28mself\u001b[39m\u001b[38;5;241m.\u001b[39m_lazy_load_file(i, p, pbar)\n\u001b[1;32m    197\u001b[0m \u001b[38;5;28;01mif\u001b[39;00m pbar:\n\u001b[1;32m    198\u001b[0m     pbar\u001b[38;5;241m.\u001b[39mclose()\n",
      "File \u001b[0;32m~/repos/teste/venv/lib/python3.12/site-packages/langchain_community/document_loaders/directory.py:233\u001b[0m, in \u001b[0;36mDirectoryLoader._lazy_load_file\u001b[0;34m(self, item, path, pbar)\u001b[0m\n\u001b[1;32m    231\u001b[0m     \u001b[38;5;28;01melse\u001b[39;00m:\n\u001b[1;32m    232\u001b[0m         logger\u001b[38;5;241m.\u001b[39merror(\u001b[38;5;124mf\u001b[39m\u001b[38;5;124m\"\u001b[39m\u001b[38;5;124mError loading file \u001b[39m\u001b[38;5;132;01m{\u001b[39;00m\u001b[38;5;28mstr\u001b[39m(item)\u001b[38;5;132;01m}\u001b[39;00m\u001b[38;5;124m\"\u001b[39m)\n\u001b[0;32m--> 233\u001b[0m         \u001b[38;5;28;01mraise\u001b[39;00m e\n\u001b[1;32m    234\u001b[0m \u001b[38;5;28;01mfinally\u001b[39;00m:\n\u001b[1;32m    235\u001b[0m     \u001b[38;5;28;01mif\u001b[39;00m pbar:\n",
      "File \u001b[0;32m~/repos/teste/venv/lib/python3.12/site-packages/langchain_community/document_loaders/directory.py:221\u001b[0m, in \u001b[0;36mDirectoryLoader._lazy_load_file\u001b[0;34m(self, item, path, pbar)\u001b[0m\n\u001b[1;32m    219\u001b[0m \u001b[38;5;28;01mtry\u001b[39;00m:\n\u001b[1;32m    220\u001b[0m     logger\u001b[38;5;241m.\u001b[39mdebug(\u001b[38;5;124mf\u001b[39m\u001b[38;5;124m\"\u001b[39m\u001b[38;5;124mProcessing file: \u001b[39m\u001b[38;5;132;01m{\u001b[39;00m\u001b[38;5;28mstr\u001b[39m(item)\u001b[38;5;132;01m}\u001b[39;00m\u001b[38;5;124m\"\u001b[39m)\n\u001b[0;32m--> 221\u001b[0m     loader \u001b[38;5;241m=\u001b[39m \u001b[38;5;28;43mself\u001b[39;49m\u001b[38;5;241;43m.\u001b[39;49m\u001b[43mloader_cls\u001b[49m\u001b[43m(\u001b[49m\u001b[38;5;28;43mstr\u001b[39;49m\u001b[43m(\u001b[49m\u001b[43mitem\u001b[49m\u001b[43m)\u001b[49m\u001b[43m,\u001b[49m\u001b[43m \u001b[49m\u001b[38;5;241;43m*\u001b[39;49m\u001b[38;5;241;43m*\u001b[39;49m\u001b[38;5;28;43mself\u001b[39;49m\u001b[38;5;241;43m.\u001b[39;49m\u001b[43mloader_kwargs\u001b[49m\u001b[43m)\u001b[49m\n\u001b[1;32m    222\u001b[0m     \u001b[38;5;28;01mtry\u001b[39;00m:\n\u001b[1;32m    223\u001b[0m         \u001b[38;5;28;01mfor\u001b[39;00m subdoc \u001b[38;5;129;01min\u001b[39;00m loader\u001b[38;5;241m.\u001b[39mlazy_load():\n",
      "File \u001b[0;32m~/repos/teste/venv/lib/python3.12/site-packages/langchain_community/document_loaders/pdf.py:238\u001b[0m, in \u001b[0;36mPyPDFLoader.__init__\u001b[0;34m(self, file_path, password, headers, extract_images, extraction_mode, extraction_kwargs)\u001b[0m\n\u001b[1;32m    236\u001b[0m     \u001b[38;5;28;01mimport\u001b[39;00m \u001b[38;5;21;01mpypdf\u001b[39;00m  \u001b[38;5;66;03m# noqa:F401\u001b[39;00m\n\u001b[1;32m    237\u001b[0m \u001b[38;5;28;01mexcept\u001b[39;00m \u001b[38;5;167;01mImportError\u001b[39;00m:\n\u001b[0;32m--> 238\u001b[0m     \u001b[38;5;28;01mraise\u001b[39;00m \u001b[38;5;167;01mImportError\u001b[39;00m(\n\u001b[1;32m    239\u001b[0m         \u001b[38;5;124m\"\u001b[39m\u001b[38;5;124mpypdf package not found, please install it with `pip install pypdf`\u001b[39m\u001b[38;5;124m\"\u001b[39m\n\u001b[1;32m    240\u001b[0m     )\n\u001b[1;32m    241\u001b[0m \u001b[38;5;28msuper\u001b[39m()\u001b[38;5;241m.\u001b[39m\u001b[38;5;21m__init__\u001b[39m(file_path, headers\u001b[38;5;241m=\u001b[39mheaders)\n\u001b[1;32m    242\u001b[0m \u001b[38;5;28mself\u001b[39m\u001b[38;5;241m.\u001b[39mparser \u001b[38;5;241m=\u001b[39m PyPDFParser(\n\u001b[1;32m    243\u001b[0m     password\u001b[38;5;241m=\u001b[39mpassword,\n\u001b[1;32m    244\u001b[0m     extract_images\u001b[38;5;241m=\u001b[39mextract_images,\n\u001b[1;32m    245\u001b[0m     extraction_mode\u001b[38;5;241m=\u001b[39mextraction_mode,\n\u001b[1;32m    246\u001b[0m     extraction_kwargs\u001b[38;5;241m=\u001b[39mextraction_kwargs,\n\u001b[1;32m    247\u001b[0m )\n",
      "\u001b[0;31mImportError\u001b[0m: pypdf package not found, please install it with `pip install pypdf`"
     ]
    }
   ],
   "source": [
    "def load_documents(data_dir):\n",
    "    \"\"\"\n",
    "    Load documents from a data_dir. Supports txt, pdf, csv, and docx formats.\n",
    "    Applies cleaning to the text.\n",
    "    \"\"\"\n",
    "    documents = []\n",
    "\n",
    "    # Configure the directory as a Path object\n",
    "    directory = Path(data_dir)\n",
    "\n",
    "    # Load txt files\n",
    "    txt_loader = DirectoryLoader(\n",
    "        directory.as_posix(), glob=\"**/*.txt\", loader_cls=TextLoader, show_progress=True\n",
    "    )\n",
    "    documents.extend(txt_loader.load())\n",
    "\n",
    "    # Load pdf files\n",
    "    pdf_loader = DirectoryLoader(\n",
    "        directory.as_posix(), glob=\"**/*.pdf\", loader_cls=PyPDFLoader, show_progress=True\n",
    "    )\n",
    "    documents.extend(pdf_loader.load())\n",
    "\n",
    "    # Load csv files\n",
    "    csv_loader = DirectoryLoader(\n",
    "        directory.as_posix(),\n",
    "        glob=\"**/*.csv\",\n",
    "        loader_cls=CSVLoader,\n",
    "        show_progress=True,\n",
    "        loader_kwargs={\"encoding\": \"utf8\"}\n",
    "    )\n",
    "    documents.extend(csv_loader.load())\n",
    "\n",
    "    # Load docx files\n",
    "    doc_loader = DirectoryLoader(\n",
    "        directory.as_posix(), glob=\"**/*.docx\", loader_cls=Docx2txtLoader, show_progress=True\n",
    "    )\n",
    "    documents.extend(doc_loader.load())\n",
    "\n",
    "    # Apply text cleaning to all loaded documents\n",
    "    for doc in documents:\n",
    "        doc.page_content = clean_text(doc.page_content)\n",
    "\n",
    "    return documents\n",
    "\n",
    "# Test the function\n",
    "data_directory = \"../data/docs\"\n",
    "loaded_documents = load_documents(data_directory)\n",
    "\n",
    "# Print the number of documents loaded and a preview of the cleaned text\n",
    "print(f\"Loaded {len(loaded_documents)} documents.\")\n",
    "print(f\"First cleaned document:\\n{loaded_documents[0].page_content[:500]}\")\n"
   ]
  },
  {
   "cell_type": "markdown",
   "id": "db9f826c-49af-4294-a8d3-675e2173118b",
   "metadata": {},
   "source": [
    "# Load and split documents"
   ]
  },
  {
   "cell_type": "code",
   "execution_count": 5,
   "id": "2e8ecb7b-f143-4d76-8a3e-b07a78058300",
   "metadata": {},
   "outputs": [
    {
     "name": "stdout",
     "output_type": "stream",
     "text": [
      "Number of fragments created: 9\n",
      "First fragments:\n",
      "[\"Course 1: Blockchain Fundamentals What You'll Learn ● Understand the basic concepts of blockchain, its history, and its importance in the digital world. ● Explore the underlying technology, including cryptography and consensus mechanisms. ● Identify different types of blockchain (public, private, and hybrid). ● Discover the benefits of blockchain, such as security, transparency, and decentralization. Prerequisites ● None. This course is introductory and perfect for beginners. Duration ● 5 weeks \", \"Included Materials ● Detailed video tutorials. ● Pre-configured contract templates for XRPL. ● Access to simulation tools. Certification ● Certificate awarded after completing a practical project, such as creating a token. Course 3: Introduction to Cryptocurrency Trading What You'll Learn ● Understand the basic concepts of trading in the cryptocurrency market. ● Analyze charts and conduct technical and fundamental analysis. ● Explore different trading types: spot, futures, and margin. ● Manage r\", \"simulation. Course 4: Trading on Blockchain with XRPL What You'll Learn ● Differentiate between centralized and decentralized trading.\"]\n"
     ]
    }
   ],
   "source": [
    "def split_into_fragments(documents, chunk_size=1200, chunk_overlap=100):\n",
    "    \"\"\"\n",
    "    Split cleaned documents into smaller fragments.\n",
    "    \"\"\"\n",
    "    splitter = RecursiveCharacterTextSplitter(chunk_size=chunk_size, chunk_overlap=chunk_overlap)\n",
    "    fragments = splitter.split_documents(documents)\n",
    "    return fragments\n",
    "\n",
    "# Split documents into fragments\n",
    "fragments = split_into_fragments(loaded_documents)\n",
    "\n",
    "# Print fragment information\n",
    "print(f\"Number of fragments created: {len(fragments)}\")\n",
    "print(f\"First fragments:\\n{[frag.page_content[:500] for frag in fragments[:3]]}\")\n"
   ]
  },
  {
   "cell_type": "markdown",
   "id": "031d97fb-0c76-444c-abe6-73d9e13e4578",
   "metadata": {},
   "source": [
    "# Save fragments for the next step"
   ]
  },
  {
   "cell_type": "code",
   "execution_count": 6,
   "id": "890854d3-93c4-45f0-bc53-354edc27f2e7",
   "metadata": {},
   "outputs": [
    {
     "name": "stdout",
     "output_type": "stream",
     "text": [
      "Fragments created: 9\n"
     ]
    }
   ],
   "source": [
    "with open(\"../data/fragments.pkl\", \"wb\") as f:\n",
    "    pickle.dump(fragments, f)\n",
    "\n",
    "print(f\"Fragments created: {len(fragments)}\")"
   ]
  },
  {
   "cell_type": "code",
   "execution_count": 7,
   "id": "ab858ad8-9a1e-4a7e-84e5-480c3741a503",
   "metadata": {},
   "outputs": [
    {
     "name": "stdout",
     "output_type": "stream",
     "text": [
      "page_content=\"Course 1: Blockchain Fundamentals What You'll Learn ● Understand the basic concepts of blockchain, its history, and its importance in the digital world. ● Explore the underlying technology, including cryptography and consensus mechanisms. ● Identify different types of blockchain (public, private, and hybrid). ● Discover the benefits of blockchain, such as security, transparency, and decentralization. Prerequisites ● None. This course is introductory and perfect for beginners. Duration ● 5 weeks (3 hours per week). Included Materials ● Recorded and live classes. ● PDF guides and step-by-step tutorials. ● Quizzes to test your knowledge. Certification ● Certificate of completion available after completing the quizzes and a final project. Course 2: Blockchain in Practice with XRPL What You'll Learn ● Create and configure a wallet on the XRP Ledger (XRPL). ● Execute transactions using XRPL. ● Issue and trade digital tokens. ● Explore practical use cases such as NFT issuance and creating digital assets. Prerequisites ● Basic understanding of blockchain (we recommend completing Course 1 first). Duration ● 4 weeks (4 hours per week).\" metadata={'source': '..\\\\data\\\\docs\\\\Informações dos cursos.pdf', 'page': 0}\n"
     ]
    }
   ],
   "source": [
    "print(loaded_documents[0])  # Exibir o conteúdo do primeiro documento\n"
   ]
  },
  {
   "cell_type": "code",
   "execution_count": 8,
   "id": "7354a0de-45fc-42a2-b4ff-49d4f9d80891",
   "metadata": {},
   "outputs": [
    {
     "name": "stdout",
     "output_type": "stream",
     "text": [
      "[Document(page_content=\"Course 1: Blockchain Fundamentals What You'll Learn ● Understand the basic concepts of blockchain, its history, and its importance in the digital world. ● Explore the underlying technology, including cryptography and consensus mechanisms. ● Identify different types of blockchain (public, private, and hybrid). ● Discover the benefits of blockchain, such as security, transparency, and decentralization. Prerequisites ● None. This course is introductory and perfect for beginners. Duration ● 5 weeks (3 hours per week). Included Materials ● Recorded and live classes. ● PDF guides and step-by-step tutorials. ● Quizzes to test your knowledge. Certification ● Certificate of completion available after completing the quizzes and a final project. Course 2: Blockchain in Practice with XRPL What You'll Learn ● Create and configure a wallet on the XRP Ledger (XRPL). ● Execute transactions using XRPL. ● Issue and trade digital tokens. ● Explore practical use cases such as NFT issuance and creating digital assets. Prerequisites ● Basic understanding of blockchain (we recommend completing Course 1 first). Duration ● 4 weeks (4 hours per week).\", metadata={'source': '..\\\\data\\\\docs\\\\Informações dos cursos.pdf', 'page': 0}), Document(page_content=\"Included Materials ● Detailed video tutorials. ● Pre-configured contract templates for XRPL. ● Access to simulation tools. Certification ● Certificate awarded after completing a practical project, such as creating a token. Course 3: Introduction to Cryptocurrency Trading What You'll Learn ● Understand the basic concepts of trading in the cryptocurrency market. ● Analyze charts and conduct technical and fundamental analysis. ● Explore different trading types: spot, futures, and margin. ● Manage risks and develop trader psychology. Prerequisites ● Basic knowledge of financial markets (the course starts from scratch but having some understanding helps). ● Familiarity with basic online navigation and analysis tools, such as spreadsheets, is recommended. Duration ● 6 weeks (3 hours per week). Included Materials ● Explanatory videos about trading strategies. ● Simulation tools for practicing strategies without financial risk. ● Pre-formatted spreadsheets for risk management and performance analysis. Certification ● Certificate of completion based on final performance evaluation in a trading simulation. Course 4: Trading on Blockchain with XRPL What You'll Learn ● Differentiate between\", metadata={'source': '..\\\\data\\\\docs\\\\Informações dos cursos.pdf', 'page': 1}), Document(page_content=\"simulation. Course 4: Trading on Blockchain with XRPL What You'll Learn ● Differentiate between centralized and decentralized trading.\", metadata={'source': '..\\\\data\\\\docs\\\\Informações dos cursos.pdf', 'page': 1})]\n"
     ]
    }
   ],
   "source": [
    "print(fragments[:3])  # Exibir os primeiros 3 fragmentos\n"
   ]
  },
  {
   "cell_type": "code",
   "execution_count": 9,
   "id": "66f0666f-a692-4d44-952c-42641a2f485b",
   "metadata": {},
   "outputs": [
    {
     "name": "stdout",
     "output_type": "stream",
     "text": [
      "Last page content:\n",
      "Question: How does payment in XRP work? ● Answer: Payment is made directly through the chatbot interface. Here's the step-by-step process: 1. Select the Course: ○ The user tells the chatbot which course they wish to purchase. ○ The chatbot confirms the price in XRP, including the discount. 2. Wallet Address: ○ The chatbot provides the wallet address to send the payment. ○ If required, a destination tag will also be provided to identify the transaction. 3. Make the Payment: ○ The user transfers XRP from their wallet to the provided address. ○ If the user does not have a wallet, the chatbot can guide them on creating one on XRPL. 4. Transaction Confirmation: ○ The chatbot automatically checks the blockchain to confirm receipt of payment. ○ The transaction status (confirmed or pending) is shared with the user. 5. Course Access: ○ Upon payment confirmation, the chatbot sends immediate access to the course. ○ A confirmation email with course details is also sent. Discount for XRP Payments ● All courses include a 10% discount for payments made in XRP. Course Prices with Discount (in USD) 1. Course 1: Blockchain Fundamentals ○ Original Price: $50.00 ○ Discounted Price: $45.00 2. Course 2: Blockchain in Practice with XRPL ○ Original Price: $80.00 ○ Discounted Price: $72.00 3. Course 3: Introduction to Cryptocurrency Trading ○ Original Price: $100.00 ○ Discounted Price: $90.00 4. Course 4: Trading on Blockchain with XRPL ○ Original Price: $120.00 ○ Discounted Price: $108.00\n"
     ]
    }
   ],
   "source": [
    "print(f\"Last page content:\\n{loaded_documents[-1].page_content}\")\n"
   ]
  },
  {
   "cell_type": "code",
   "execution_count": null,
   "id": "d09e546b-fb53-419d-8fd9-91d6ac380e74",
   "metadata": {},
   "outputs": [],
   "source": []
  }
 ],
 "metadata": {
  "kernelspec": {
   "display_name": "venv",
   "language": "python",
   "name": "python3"
  },
  "language_info": {
   "codemirror_mode": {
    "name": "ipython",
    "version": 3
   },
   "file_extension": ".py",
   "mimetype": "text/x-python",
   "name": "python",
   "nbconvert_exporter": "python",
   "pygments_lexer": "ipython3",
   "version": "3.12.3"
  }
 },
 "nbformat": 4,
 "nbformat_minor": 5
}
