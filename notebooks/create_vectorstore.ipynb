{
 "cells": [
  {
   "cell_type": "markdown",
   "id": "7e6ee02a-386b-4e63-9ff1-72d27f040631",
   "metadata": {},
   "source": [
    "# Dependencies"
   ]
  },
  {
   "cell_type": "code",
   "execution_count": 9,
   "id": "075b4c42-8fba-4290-8095-51e5fc38b0ec",
   "metadata": {},
   "outputs": [],
   "source": [
    "from langchain.vectorstores import Chroma\n",
    "from langchain.embeddings import OpenAIEmbeddings, HuggingFaceEmbeddings, GooglePalmEmbeddings\n",
    "from langchain.text_splitter import CharacterTextSplitter\n",
    "from langchain.retrievers.document_compressors import DocumentCompressorPipeline\n",
    "from langchain.retrievers import ContextualCompressionRetriever\n",
    "from langchain_community.document_transformers import EmbeddingsRedundantFilter, LongContextReorder\n",
    "from langchain.retrievers.document_compressors import EmbeddingsFilter\n",
    "from sklearn.metrics.pairwise import cosine_similarity\n",
    "import numpy as np\n",
    "import pickle\n",
    "import os\n",
    "from pathlib import Path"
   ]
  },
  {
   "cell_type": "markdown",
   "id": "930c56ce-a121-4f8d-a50d-50fcd42858a6",
   "metadata": {},
   "source": [
    "# vectorstore"
   ]
  },
  {
   "cell_type": "code",
   "execution_count": 10,
   "id": "ffe09204-c587-4e1e-88b4-0be840dab47c",
   "metadata": {},
   "outputs": [],
   "source": [
    "LOCAL_VECTOR_STORE_DIR = Path(\"../data/vectorstore\")"
   ]
  },
  {
   "cell_type": "markdown",
   "id": "ce263f64-5d87-4b96-aa7a-260a81275941",
   "metadata": {},
   "source": [
    "# Function to create a vectorstore"
   ]
  },
  {
   "cell_type": "code",
   "execution_count": 11,
   "id": "e6d83ffb-20b9-40d1-a90b-1068341763c2",
   "metadata": {},
   "outputs": [],
   "source": [
    "def create_vectorstore(embeddings, documents, vectorstore_name):\n",
    "    \"\"\"Create a Chroma vectorstore with persistence.\"\"\"\n",
    "    persist_directory = LOCAL_VECTOR_STORE_DIR.as_posix() + \"/\" + vectorstore_name\n",
    "    vector_store = Chroma.from_documents(\n",
    "        documents=documents,\n",
    "        embedding=embeddings,\n",
    "        persist_directory=persist_directory\n",
    "    )\n",
    "    vector_store.persist()\n",
    "    return vector_store"
   ]
  },
  {
   "cell_type": "markdown",
   "id": "2f64fe25-77c8-438c-9845-a18999a02cad",
   "metadata": {},
   "source": [
    "# Function to select embeddings provider"
   ]
  },
  {
   "cell_type": "code",
   "execution_count": 12,
   "id": "3d591caa-4cb0-4dc9-9c32-fa2dd2af1951",
   "metadata": {},
   "outputs": [],
   "source": [
    "def select_embeddings(provider):\n",
    "    if provider == \"openai\":\n",
    "        return OpenAIEmbeddings()\n",
    "    elif provider == \"huggingface\":\n",
    "        return HuggingFaceEmbeddings(model_name=\"thenlper/gte-large\") # \"all-MiniLM-L6-v2\" \"thenlper/gte-large\"\n",
    "    elif provider == \"google\":\n",
    "        return GooglePalmEmbeddings(google_api_key=os.getenv(\"GOOGLE_API_KEY\"))\n",
    "    else:\n",
    "        raise ValueError(\"Invalid provider.\")"
   ]
  },
  {
   "cell_type": "markdown",
   "id": "df64fbc0-ebfd-4bb7-b332-75a7c76ef8c6",
   "metadata": {},
   "source": [
    "# Function to create a vectorstore-based retriever"
   ]
  },
  {
   "cell_type": "code",
   "execution_count": 13,
   "id": "c608879a-1669-4296-b3fe-e0c753142f73",
   "metadata": {},
   "outputs": [],
   "source": [
    "def create_retriever(vectorstore, search_type=\"similarity\", k=10, score_threshold=None):\n",
    "    \"\"\"Create a retriever based on the vectorstore.\"\"\"\n",
    "    search_kwargs = {}\n",
    "    if k is not None:\n",
    "        search_kwargs['k'] = k\n",
    "    if score_threshold is not None:\n",
    "        search_kwargs['score_threshold'] = score_threshold\n",
    "\n",
    "    retriever = vectorstore.as_retriever(\n",
    "        search_type=search_type,\n",
    "        search_kwargs=search_kwargs\n",
    "    )\n",
    "    return retriever"
   ]
  },
  {
   "cell_type": "markdown",
   "id": "83f6f199-b101-4c3a-882d-fadc6a3e09ff",
   "metadata": {},
   "source": [
    "# Function to create a contextual compression retriever"
   ]
  },
  {
   "cell_type": "code",
   "execution_count": 14,
   "id": "beac5a1e-3841-40c5-a60a-8423833be1c7",
   "metadata": {},
   "outputs": [],
   "source": [
    "def create_compression_retriever(embeddings, base_retriever, chunk_size=3000, k=10, similarity_threshold=0.8):\n",
    "    \"\"\"Create a ContextualCompressionRetriever.\"\"\"\n",
    "    splitter = CharacterTextSplitter(chunk_size=chunk_size, chunk_overlap=100)\n",
    "    redundant_filter = EmbeddingsRedundantFilter(embeddings=embeddings)\n",
    "    relevant_filter = EmbeddingsFilter(embeddings=embeddings, k=k, similarity_threshold=similarity_threshold)\n",
    "    reordering = LongContextReorder()\n",
    "\n",
    "    pipeline_compressor = DocumentCompressorPipeline(\n",
    "        transformers=[splitter, redundant_filter, relevant_filter, reordering]\n",
    "    )\n",
    "    compression_retriever = ContextualCompressionRetriever(\n",
    "        base_compressor=pipeline_compressor, \n",
    "        base_retriever=base_retriever\n",
    "    )\n",
    "    return compression_retriever"
   ]
  },
  {
   "cell_type": "markdown",
   "id": "227854f4-1668-4ad2-938b-3409f649a88e",
   "metadata": {},
   "source": [
    "# Remove duplicates"
   ]
  },
  {
   "cell_type": "code",
   "execution_count": 15,
   "id": "f0dc9095-0c39-4940-bd53-77e3e0b2c26f",
   "metadata": {},
   "outputs": [],
   "source": [
    "def remove_duplicates(results):\n",
    "    seen = set()\n",
    "    unique_results = []\n",
    "    for result in results:\n",
    "        if result[0] not in seen:  # result[0] é o conteúdo do fragmento\n",
    "            seen.add(result[0])\n",
    "            unique_results.append(result)\n",
    "    return unique_results\n"
   ]
  },
  {
   "cell_type": "markdown",
   "id": "4b55c13b-1b4a-4d48-af48-f0fd0cca3253",
   "metadata": {},
   "source": [
    "# Retrieve documents along with similarity scores and sort them by relevance."
   ]
  },
  {
   "cell_type": "code",
   "execution_count": 16,
   "id": "e385ea4a-5c16-4ef7-84d9-53632b77b127",
   "metadata": {},
   "outputs": [],
   "source": [
    "def retrieve_with_scores(retriever, query, embeddings, k=4):\n",
    "    results = retriever.get_relevant_documents(query)\n",
    "    query_embedding = embeddings.embed_query(query)\n",
    "\n",
    "    # Calculate similarity scores manually\n",
    "    results_with_scores = []\n",
    "    for result in results:\n",
    "        doc_embedding = embeddings.embed_query(result.page_content)\n",
    "        similarity = cosine_similarity(\n",
    "            np.array(query_embedding).reshape(1, -1),\n",
    "            np.array(doc_embedding).reshape(1, -1)\n",
    "        )[0][0]  # Extract the similarity score\n",
    "        results_with_scores.append((result.page_content, result.metadata, similarity))\n",
    "\n",
    "    # Sort results by similarity score\n",
    "    sorted_results = sorted(results_with_scores, key=lambda x: x[2], reverse=True)\n",
    "\n",
    "    # Remove duplicates\n",
    "    unique_results = remove_duplicates(sorted_results)\n",
    "    return unique_results[:k]\n"
   ]
  },
  {
   "cell_type": "markdown",
   "id": "912ef363-3294-45ac-9507-8143d17de238",
   "metadata": {},
   "source": [
    "# Load document fragments"
   ]
  },
  {
   "cell_type": "code",
   "execution_count": 17,
   "id": "5aeacd38-f095-4bf4-8314-1e7f9a192e1d",
   "metadata": {},
   "outputs": [
    {
     "name": "stdout",
     "output_type": "stream",
     "text": [
      "Fragments loaded: 9\n"
     ]
    }
   ],
   "source": [
    "with open(\"../data/fragments.pkl\", \"rb\") as f:\n",
    "    fragments = pickle.load(f)\n",
    "\n",
    "print(f\"Fragments loaded: {len(fragments)}\")"
   ]
  },
  {
   "cell_type": "markdown",
   "id": "aeaaad68-e42f-4685-8be9-af5114f66aee",
   "metadata": {},
   "source": [
    "# Configure embeddings provider"
   ]
  },
  {
   "cell_type": "code",
   "execution_count": 18,
   "id": "d4e47bb1-838c-43ba-bdc1-52e68fa9236e",
   "metadata": {},
   "outputs": [
    {
     "name": "stderr",
     "output_type": "stream",
     "text": [
      "/tmp/ipykernel_84660/2509466222.py:5: LangChainDeprecationWarning: The class `HuggingFaceEmbeddings` was deprecated in LangChain 0.2.2 and will be removed in 1.0. An updated version of the class exists in the :class:`~langchain-huggingface package and should be used instead. To use it run `pip install -U :class:`~langchain-huggingface` and import as `from :class:`~langchain_huggingface import HuggingFaceEmbeddings``.\n",
      "  return HuggingFaceEmbeddings(model_name=\"thenlper/gte-large\") # \"all-MiniLM-L6-v2\" \"thenlper/gte-large\"\n"
     ]
    }
   ],
   "source": [
    "provider = \"huggingface\"  # Change to \"openai\" or \"google\"\n",
    "embeddings = select_embeddings(provider)"
   ]
  },
  {
   "cell_type": "markdown",
   "id": "fa229db0-b5e3-47e9-b87b-4353489dff4d",
   "metadata": {},
   "source": [
    "# Create vectorstore"
   ]
  },
  {
   "cell_type": "code",
   "execution_count": 19,
   "id": "97f7bbcc-560e-455f-a662-4c62c8d8cbdb",
   "metadata": {},
   "outputs": [
    {
     "name": "stderr",
     "output_type": "stream",
     "text": [
      "⚠️ It looks like you upgraded from a version below 0.6 and could benefit from vacuuming your database. Run chromadb utils vacuum --help for more information.\n",
      "/tmp/ipykernel_84660/2122690438.py:9: LangChainDeprecationWarning: Since Chroma 0.4.x the manual persistence method is no longer supported as docs are automatically persisted.\n",
      "  vector_store.persist()\n"
     ]
    }
   ],
   "source": [
    "vectorstore_name = \"my_vectorstore\"\n",
    "vectorstore = create_vectorstore(embeddings, fragments, vectorstore_name)"
   ]
  },
  {
   "cell_type": "markdown",
   "id": "21e5bdcd-84e6-46a4-b245-a22993ade777",
   "metadata": {},
   "source": [
    "# Create a basic retriever"
   ]
  },
  {
   "cell_type": "code",
   "execution_count": 20,
   "id": "6da525cd-fae6-4131-867e-1ccf29253b90",
   "metadata": {},
   "outputs": [],
   "source": [
    "retriever = create_retriever(vectorstore, search_type=\"similarity\", k=4)"
   ]
  },
  {
   "cell_type": "markdown",
   "id": "aa937e6c-d10d-417e-a8ab-7dd6f5f12826",
   "metadata": {},
   "source": [
    "# Create a contextual compression retriever"
   ]
  },
  {
   "cell_type": "code",
   "execution_count": 21,
   "id": "4261f2c0-69ac-4cd0-91d1-7cf79bef076a",
   "metadata": {},
   "outputs": [],
   "source": [
    "compression_retriever = create_compression_retriever(\n",
    "    embeddings=embeddings, \n",
    "    base_retriever=retriever, \n",
    "    chunk_size=500, \n",
    "    k=16, \n",
    "    similarity_threshold=0.8\n",
    ")\n"
   ]
  },
  {
   "cell_type": "markdown",
   "id": "6a984855-4204-46d8-9257-d8818dfe6bf1",
   "metadata": {},
   "source": [
    "# Test retrieval with the basic retriever\n"
   ]
  },
  {
   "cell_type": "code",
   "execution_count": 22,
   "id": "a4551a0f-8ed9-44fa-acc0-9eb6e32bb3ce",
   "metadata": {},
   "outputs": [
    {
     "name": "stdout",
     "output_type": "stream",
     "text": [
      "Search results (Basic Retriever):\n",
      "- Text: Course 1: Blockchain Fundamentals What You'll Learn ● Understand the basic concepts of blockchain, i...\n",
      "  Metadata: {'page': 0, 'source': '..\\\\data\\\\docs\\\\Informações dos cursos.pdf'}\n",
      "- Text: Course 1: Blockchain Fundamentals What You'll Learn ● Understand the basic concepts of blockchain, i...\n",
      "  Metadata: {'page': 0, 'source': '..\\\\data\\\\docs\\\\Informações dos cursos.pdf'}\n",
      "- Text: Course 1: Blockchain Fundamentals What You'll Learn ● Understand the basic concepts of blockchain, i...\n",
      "  Metadata: {'page': 0, 'source': '..\\\\data\\\\docs\\\\Informações dos cursos.pdf'}\n",
      "- Text: Course 1: Blockchain Fundamentals What You'll Learn ● Understand the basic concepts of blockchain, i...\n",
      "  Metadata: {'page': 0, 'source': '..\\\\data\\\\docs\\\\Informações dos cursos.pdf'}\n"
     ]
    },
    {
     "name": "stderr",
     "output_type": "stream",
     "text": [
      "/tmp/ipykernel_84660/2716253957.py:2: LangChainDeprecationWarning: The method `BaseRetriever.get_relevant_documents` was deprecated in langchain-core 0.1.46 and will be removed in 1.0. Use :meth:`~invoke` instead.\n",
      "  results = retriever.get_relevant_documents(query)\n"
     ]
    }
   ],
   "source": [
    "query = \"Which course is best for beginners?\"\n",
    "results = retriever.get_relevant_documents(query)\n",
    "\n",
    "print(\"Search results (Basic Retriever):\")\n",
    "for result in results:\n",
    "    print(f\"- Text: {result.page_content[:100]}...\")\n",
    "    print(f\"  Metadata: {result.metadata}\")\n"
   ]
  },
  {
   "cell_type": "code",
   "execution_count": 23,
   "id": "10dd8420-040b-40f8-9ac1-fc9af85ffa79",
   "metadata": {},
   "outputs": [
    {
     "name": "stdout",
     "output_type": "stream",
     "text": [
      "Search results (Basic Retriever):\n",
      "- Text: Course 1: Blockchain Fundamentals ○ Original Price: $50.00 ○ Discounted Price: $45.00 2. Course 2: B...\n",
      "  Metadata: {'page': 4, 'source': '..\\\\data\\\\docs\\\\Informações dos cursos.pdf'}\n",
      "- Text: Course 1: Blockchain Fundamentals ○ Original Price: $50.00 ○ Discounted Price: $45.00 2. Course 2: B...\n",
      "  Metadata: {'page': 4, 'source': '..\\\\data\\\\docs\\\\Informações dos cursos.pdf'}\n",
      "- Text: Course 1: Blockchain Fundamentals ○ Original Price: $50.00 ○ Discounted Price: $45.00 2. Course 2: B...\n",
      "  Metadata: {'page': 4, 'source': '..\\\\data\\\\docs\\\\Informações dos cursos.pdf'}\n",
      "- Text: Course 1: Blockchain Fundamentals ○ Original Price: $50.00 ○ Discounted Price: $45.00 2. Course 2: B...\n",
      "  Metadata: {'page': 4, 'source': '..\\\\data\\\\docs\\\\Informações dos cursos.pdf'}\n"
     ]
    }
   ],
   "source": [
    "query = \"How much does the Blockchain Fundamentals course cost?\"\n",
    "results = retriever.get_relevant_documents(query)\n",
    "\n",
    "print(\"Search results (Basic Retriever):\")\n",
    "for result in results:\n",
    "    print(f\"- Text: {result.page_content[:100]}...\")\n",
    "    print(f\"  Metadata: {result.metadata}\")"
   ]
  },
  {
   "cell_type": "code",
   "execution_count": 24,
   "id": "7073a071-dd39-42cf-9558-634b70b8ce96",
   "metadata": {},
   "outputs": [
    {
     "name": "stdout",
     "output_type": "stream",
     "text": [
      "Sorted results with calculated similarity:\n",
      "- Text: Course 1: Blockchain Fundamentals ○ Original Price: $50.00 ○ Discounted Price: $45.00 2. Course 2: B...\n",
      "  Metadata: {'page': 4, 'source': '..\\\\data\\\\docs\\\\Informações dos cursos.pdf'}\n",
      "  Similarity Score: 0.8672\n"
     ]
    }
   ],
   "source": [
    "# Testar a recuperação com similaridade calculada manualmente\n",
    "query = \"What are the discounted prices for the courses?\"\n",
    "sorted_results = retrieve_with_scores(retriever, query, embeddings)\n",
    "\n",
    "# Exibir resultados\n",
    "print(\"Sorted results with calculated similarity:\")\n",
    "for text, metadata, score in sorted_results:\n",
    "    print(f\"- Text: {text[:100]}...\")\n",
    "    print(f\"  Metadata: {metadata}\")\n",
    "    print(f\"  Similarity Score: {score:.4f}\")\n"
   ]
  },
  {
   "cell_type": "code",
   "execution_count": 25,
   "id": "30f74235-d7fc-4a70-ae5c-513d987e5166",
   "metadata": {},
   "outputs": [
    {
     "name": "stdout",
     "output_type": "stream",
     "text": [
      "All sorted results:\n",
      "Result 1:\n",
      "- Text: Course 1: Blockchain Fundamentals ○ Original Price: $50.00 ○ Discounted Price: $45.00 2. Course 2: Blockchain in Practice with XRPL ○ Original Price: $80.00 ○ Discounted Price: $72.00 3. Course 3: Int...\n",
      "  Metadata: {'page': 4, 'source': '..\\\\data\\\\docs\\\\Informações dos cursos.pdf'}\n",
      "  Similarity Score: 0.8672\n",
      "\n"
     ]
    }
   ],
   "source": [
    "# Exibir todos os resultados sem limitar o número\n",
    "query = \"What are the discounted prices for the courses?\"\n",
    "results = retrieve_with_scores(retriever, query, embeddings, k=10)\n",
    "\n",
    "print(\"All sorted results:\")\n",
    "for i, (text, metadata, score) in enumerate(results):\n",
    "    print(f\"Result {i+1}:\")\n",
    "    print(f\"- Text: {text[:200]}...\")\n",
    "    print(f\"  Metadata: {metadata}\")\n",
    "    print(f\"  Similarity Score: {score:.4f}\\n\")\n"
   ]
  },
  {
   "cell_type": "code",
   "execution_count": 26,
   "id": "2fa978f9-9e2c-4b0d-840c-f68520dc4e7a",
   "metadata": {},
   "outputs": [
    {
     "name": "stdout",
     "output_type": "stream",
     "text": [
      "Cursos adicionados com sucesso!\n",
      "Conteúdo armazenado:\n",
      "{'ids': ['course_0', 'course_1', 'course_2', 'course_3'], 'embeddings': array([[ 0.01514417,  0.02171502, -0.01358613, ..., -0.0090631 ,\n",
      "        -0.01939752,  0.00750446],\n",
      "       [ 0.0339702 ,  0.02459448, -0.0189376 , ..., -0.01415251,\n",
      "        -0.00678542,  0.02603018],\n",
      "       [ 0.03041758,  0.01606825, -0.01833036, ...,  0.00618336,\n",
      "         0.00104055,  0.00809577],\n",
      "       [ 0.01893288,  0.02563498, -0.04354222, ..., -0.02083695,\n",
      "         0.00204131,  0.01926755]]), 'documents': ['Blockchain Fundamentals: Learn the basics of blockchain, its history, and how it is transforming industries.', 'Blockchain in Practice with XRPL: Hands-on course on using the XRP Ledger for practical applications.', 'Cryptocurrency Trading: Learn trading strategies and risk management in the cryptocurrency market.', 'Trading on Blockchain with XRPL: Develop trading strategies on blockchain using decentralized tools on the XRPL.'], 'uris': None, 'data': None, 'metadatas': [{'course_name': 'Blockchain Fundamentals', 'discounted_price': 45.0, 'duration': '5 weeks', 'price': 50.0}, {'course_name': 'Blockchain in Practice with XRPL', 'discounted_price': 72.0, 'duration': '4 weeks', 'price': 80.0}, {'course_name': 'Cryptocurrency Trading', 'discounted_price': 90.0, 'duration': '6 weeks', 'price': 100.0}, {'course_name': 'Trading on Blockchain with XRPL', 'discounted_price': 108.0, 'duration': '5 weeks', 'price': 120.0}], 'included': [<IncludeEnum.embeddings: 'embeddings'>, <IncludeEnum.documents: 'documents'>, <IncludeEnum.metadatas: 'metadatas'>]}\n"
     ]
    }
   ],
   "source": [
    "import chromadb\n",
    "from chromadb.utils import embedding_functions\n",
    "\n",
    "# Configurar o ChromaDB\n",
    "DB_PATH = \"./chroma.sqlite3\"\n",
    "COLLECTION_NAME = \"blockchain_courses\"\n",
    "\n",
    "# Inicializar cliente e função de embedding\n",
    "client = chromadb.PersistentClient(path=DB_PATH)\n",
    "embedding_function = embedding_functions.SentenceTransformerEmbeddingFunction(model_name=\"thenlper/gte-large\")\n",
    "\n",
    "# Verificar ou criar a coleção\n",
    "collection = client.get_or_create_collection(COLLECTION_NAME, embedding_function=embedding_function)\n",
    "\n",
    "# Definir cursos disponíveis\n",
    "courses = [\n",
    "    {\n",
    "        \"course_name\": \"Blockchain Fundamentals\",\n",
    "        \"description\": \"Learn the basics of blockchain, its history, and how it is transforming industries.\",\n",
    "        \"price\": 50.00,\n",
    "        \"discounted_price\": 45.00,  # Para pagamentos em XRP\n",
    "        \"duration\": \"5 weeks\"\n",
    "    },\n",
    "    {\n",
    "        \"course_name\": \"Blockchain in Practice with XRPL\",\n",
    "        \"description\": \"Hands-on course on using the XRP Ledger for practical applications.\",\n",
    "        \"price\": 80.00,\n",
    "        \"discounted_price\": 72.00,\n",
    "        \"duration\": \"4 weeks\"\n",
    "    },\n",
    "    {\n",
    "        \"course_name\": \"Cryptocurrency Trading\",\n",
    "        \"description\": \"Learn trading strategies and risk management in the cryptocurrency market.\",\n",
    "        \"price\": 100.00,\n",
    "        \"discounted_price\": 90.00,\n",
    "        \"duration\": \"6 weeks\"\n",
    "    },\n",
    "    {\n",
    "        \"course_name\": \"Trading on Blockchain with XRPL\",\n",
    "        \"description\": \"Develop trading strategies on blockchain using decentralized tools on the XRPL.\",\n",
    "        \"price\": 120.00,\n",
    "        \"discounted_price\": 108.00,\n",
    "        \"duration\": \"5 weeks\"\n",
    "    }\n",
    "]\n",
    "\n",
    "# Dados para adicionar\n",
    "documents = [f\"{course['course_name']}: {course['description']}\" for course in courses]\n",
    "metadatas = [\n",
    "    {\n",
    "        \"course_name\": course[\"course_name\"],\n",
    "        \"price\": course[\"price\"],\n",
    "        \"discounted_price\": course[\"discounted_price\"],\n",
    "        \"duration\": course[\"duration\"]\n",
    "    } for course in courses\n",
    "]\n",
    "ids = [f\"course_{i}\" for i in range(len(courses))]\n",
    "\n",
    "# Adicionar dados à coleção\n",
    "collection.add(documents=documents, metadatas=metadatas, ids=ids)\n",
    "print(\"Cursos adicionados com sucesso!\")\n",
    "\n",
    "# Validar o conteúdo da coleção\n",
    "print(\"Conteúdo armazenado:\")\n",
    "print(collection.peek())\n"
   ]
  },
  {
   "cell_type": "markdown",
   "id": "b4e3467c",
   "metadata": {},
   "source": [
    "### XRPL Testnet Wallet Configuration"
   ]
  },
  {
   "cell_type": "code",
   "execution_count": 28,
   "id": "1903583c",
   "metadata": {},
   "outputs": [
    {
     "name": "stdout",
     "output_type": "stream",
     "text": [
      "Testnet Wallet Address: rKE2GpnKgQjjSyAApaxxHsoY4cG64xjsvP\n",
      "Testnet Wallet Seed: sEd7QtfAeLcc2muuftZv6nrDSi3K6pw\n"
     ]
    }
   ],
   "source": [
    "\n",
    "from xrpl.wallet import Wallet\n",
    "\n",
    "# Generate a Testnet Wallet\n",
    "wallet = Wallet.create()\n",
    "print(\"Testnet Wallet Address:\", wallet.classic_address)\n",
    "print(\"Testnet Wallet Seed:\", wallet.seed)\n"
   ]
  },
  {
   "cell_type": "markdown",
   "id": "36bcfa23",
   "metadata": {},
   "source": [
    "### Display Payment Instructions"
   ]
  },
  {
   "cell_type": "code",
   "execution_count": 29,
   "id": "975d950c",
   "metadata": {},
   "outputs": [
    {
     "name": "stdout",
     "output_type": "stream",
     "text": [
      "To purchase the course **Blockchain Fundamentals**, please follow these steps:\n",
      "1. Send **10.0 XRP** to the following XRPL Testnet wallet address:\n",
      "   **rKE2GpnKgQjjSyAApaxxHsoY4cG64xjsvP**\n",
      "\n",
      "2. Use any XRPL-compatible wallet like [XRP Faucet](https://xrpl.org/xrp-testnet-faucet.html) to get Testnet XRP.\n",
      "\n",
      "3. After completing the transaction, provide the **transaction hash** here for verification.\n",
      "\n"
     ]
    }
   ],
   "source": [
    "\n",
    "def show_payment_instructions(course_name, price_xrp):\n",
    "    response_message = f\"\"\"To purchase the course **{course_name}**, please follow these steps:\n",
    "1. Send **{price_xrp} XRP** to the following XRPL Testnet wallet address:\n",
    "   **{wallet.classic_address}**\n",
    "\n",
    "2. Use any XRPL-compatible wallet like [XRP Faucet](https://xrpl.org/xrp-testnet-faucet.html) to get Testnet XRP.\n",
    "\n",
    "3. After completing the transaction, provide the **transaction hash** here for verification.\n",
    "\"\"\"\n",
    "    print(response_message)\n",
    "\n",
    "# Example call\n",
    "show_payment_instructions(\"Blockchain Fundamentals\", 10.0)\n"
   ]
  },
  {
   "cell_type": "markdown",
   "id": "51d58723",
   "metadata": {},
   "source": [
    "### Verify Payment on XRPL Testnet"
   ]
  },
  {
   "cell_type": "code",
   "execution_count": 30,
   "id": "a742ef42",
   "metadata": {},
   "outputs": [
    {
     "name": "stdout",
     "output_type": "stream",
     "text": [
      "Error verifying the transaction: 'validated'\n"
     ]
    },
    {
     "data": {
      "text/plain": [
       "False"
      ]
     },
     "execution_count": 30,
     "metadata": {},
     "output_type": "execute_result"
    }
   ],
   "source": [
    "import httpx\n",
    "\n",
    "# XRPL Testnet RPC URL\n",
    "TESTNET_RPC = \"https://s.altnet.rippletest.net:51234/\"\n",
    "\n",
    "def verify_payment(transaction_hash, expected_amount):\n",
    "    try:\n",
    "        # Chamada manual ao XRPL RPC usando httpx\n",
    "        payload = {\n",
    "            \"method\": \"tx\",\n",
    "            \"params\": [\n",
    "                {\"transaction\": transaction_hash, \"binary\": False}\n",
    "            ]\n",
    "        }\n",
    "        response = httpx.post(TESTNET_RPC, json=payload)\n",
    "        result = response.json()\n",
    "\n",
    "        # Verificar se a transação foi validada\n",
    "        if \"result\" in result and result[\"result\"][\"validated\"]:\n",
    "            delivered_amount = int(result[\"result\"].get(\"meta\", {}).get(\"delivered_amount\", 0)) / 1_000_000\n",
    "            if delivered_amount >= expected_amount:\n",
    "                print(\"Payment verified successfully!\")\n",
    "                return True\n",
    "            else:\n",
    "                print(f\"Insufficient payment. Expected {expected_amount} XRP but received {delivered_amount} XRP.\")\n",
    "        else:\n",
    "            print(\"Transaction not yet validated on the ledger.\")\n",
    "    except Exception as e:\n",
    "        print(f\"Error verifying the transaction: {e}\")\n",
    "    return False\n",
    "\n",
    "# Solicitação do hash da transação\n",
    "transaction_hash = input(\"Enter the transaction hash: \")\n",
    "verify_payment(transaction_hash, 10.0)\n"
   ]
  },
  {
   "cell_type": "markdown",
   "id": "53dfcca0",
   "metadata": {},
   "source": [
    "### Main Chatbot Logic with XRP Payment Integration"
   ]
  },
  {
   "cell_type": "code",
   "execution_count": 31,
   "id": "d968ed2a",
   "metadata": {},
   "outputs": [
    {
     "name": "stdout",
     "output_type": "stream",
     "text": [
      "Chatbot: I'm sorry, I didn't understand that. Try 'buy course' or 'exit'.\n",
      "Chatbot: I'm sorry, I didn't understand that. Try 'buy course' or 'exit'.\n",
      "Chatbot: I'm sorry, I didn't understand that. Try 'buy course' or 'exit'.\n",
      "Chatbot: I'm sorry, I didn't understand that. Try 'buy course' or 'exit'.\n",
      "Chatbot: I'm sorry, I didn't understand that. Try 'buy course' or 'exit'.\n",
      "Chatbot: I'm sorry, I didn't understand that. Try 'buy course' or 'exit'.\n",
      "Chatbot: I'm sorry, I didn't understand that. Try 'buy course' or 'exit'.\n",
      "Chatbot: I'm sorry, I didn't understand that. Try 'buy course' or 'exit'.\n",
      "Chatbot: I'm sorry, I didn't understand that. Try 'buy course' or 'exit'.\n",
      "Chatbot: I'm sorry, I didn't understand that. Try 'buy course' or 'exit'.\n",
      "Chatbot: I'm sorry, I didn't understand that. Try 'buy course' or 'exit'.\n"
     ]
    },
    {
     "ename": "KeyboardInterrupt",
     "evalue": "Interrupted by user",
     "output_type": "error",
     "traceback": [
      "\u001b[0;31m---------------------------------------------------------------------------\u001b[0m",
      "\u001b[0;31mKeyboardInterrupt\u001b[0m                         Traceback (most recent call last)",
      "Cell \u001b[0;32mIn[31], line 2\u001b[0m\n\u001b[1;32m      1\u001b[0m \u001b[38;5;28;01mwhile\u001b[39;00m \u001b[38;5;28;01mTrue\u001b[39;00m:\n\u001b[0;32m----> 2\u001b[0m     user_input \u001b[38;5;241m=\u001b[39m \u001b[38;5;28;43minput\u001b[39;49m\u001b[43m(\u001b[49m\u001b[38;5;124;43m\"\u001b[39;49m\u001b[38;5;124;43mUser: \u001b[39;49m\u001b[38;5;124;43m\"\u001b[39;49m\u001b[43m)\u001b[49m\u001b[38;5;241m.\u001b[39mlower()\n\u001b[1;32m      4\u001b[0m     \u001b[38;5;28;01mif\u001b[39;00m \u001b[38;5;124m\"\u001b[39m\u001b[38;5;124mbuy course\u001b[39m\u001b[38;5;124m\"\u001b[39m \u001b[38;5;129;01min\u001b[39;00m user_input:\n\u001b[1;32m      5\u001b[0m         \u001b[38;5;66;03m# Purchase course flow\u001b[39;00m\n\u001b[1;32m      6\u001b[0m         course_name \u001b[38;5;241m=\u001b[39m \u001b[38;5;124m\"\u001b[39m\u001b[38;5;124mBlockchain Fundamentals\u001b[39m\u001b[38;5;124m\"\u001b[39m\n",
      "File \u001b[0;32m/usr/lib/python3/dist-packages/ipykernel/kernelbase.py:1282\u001b[0m, in \u001b[0;36mKernel.raw_input\u001b[0;34m(self, prompt)\u001b[0m\n\u001b[1;32m   1280\u001b[0m     msg \u001b[38;5;241m=\u001b[39m \u001b[38;5;124m\"\u001b[39m\u001b[38;5;124mraw_input was called, but this frontend does not support input requests.\u001b[39m\u001b[38;5;124m\"\u001b[39m\n\u001b[1;32m   1281\u001b[0m     \u001b[38;5;28;01mraise\u001b[39;00m StdinNotImplementedError(msg)\n\u001b[0;32m-> 1282\u001b[0m \u001b[38;5;28;01mreturn\u001b[39;00m \u001b[38;5;28;43mself\u001b[39;49m\u001b[38;5;241;43m.\u001b[39;49m\u001b[43m_input_request\u001b[49m\u001b[43m(\u001b[49m\n\u001b[1;32m   1283\u001b[0m \u001b[43m    \u001b[49m\u001b[38;5;28;43mstr\u001b[39;49m\u001b[43m(\u001b[49m\u001b[43mprompt\u001b[49m\u001b[43m)\u001b[49m\u001b[43m,\u001b[49m\n\u001b[1;32m   1284\u001b[0m \u001b[43m    \u001b[49m\u001b[38;5;28;43mself\u001b[39;49m\u001b[38;5;241;43m.\u001b[39;49m\u001b[43m_parent_ident\u001b[49m\u001b[43m[\u001b[49m\u001b[38;5;124;43m\"\u001b[39;49m\u001b[38;5;124;43mshell\u001b[39;49m\u001b[38;5;124;43m\"\u001b[39;49m\u001b[43m]\u001b[49m\u001b[43m,\u001b[49m\n\u001b[1;32m   1285\u001b[0m \u001b[43m    \u001b[49m\u001b[38;5;28;43mself\u001b[39;49m\u001b[38;5;241;43m.\u001b[39;49m\u001b[43mget_parent\u001b[49m\u001b[43m(\u001b[49m\u001b[38;5;124;43m\"\u001b[39;49m\u001b[38;5;124;43mshell\u001b[39;49m\u001b[38;5;124;43m\"\u001b[39;49m\u001b[43m)\u001b[49m\u001b[43m,\u001b[49m\n\u001b[1;32m   1286\u001b[0m \u001b[43m    \u001b[49m\u001b[43mpassword\u001b[49m\u001b[38;5;241;43m=\u001b[39;49m\u001b[38;5;28;43;01mFalse\u001b[39;49;00m\u001b[43m,\u001b[49m\n\u001b[1;32m   1287\u001b[0m \u001b[43m\u001b[49m\u001b[43m)\u001b[49m\n",
      "File \u001b[0;32m/usr/lib/python3/dist-packages/ipykernel/kernelbase.py:1325\u001b[0m, in \u001b[0;36mKernel._input_request\u001b[0;34m(self, prompt, ident, parent, password)\u001b[0m\n\u001b[1;32m   1322\u001b[0m \u001b[38;5;28;01mexcept\u001b[39;00m \u001b[38;5;167;01mKeyboardInterrupt\u001b[39;00m:\n\u001b[1;32m   1323\u001b[0m     \u001b[38;5;66;03m# re-raise KeyboardInterrupt, to truncate traceback\u001b[39;00m\n\u001b[1;32m   1324\u001b[0m     msg \u001b[38;5;241m=\u001b[39m \u001b[38;5;124m\"\u001b[39m\u001b[38;5;124mInterrupted by user\u001b[39m\u001b[38;5;124m\"\u001b[39m\n\u001b[0;32m-> 1325\u001b[0m     \u001b[38;5;28;01mraise\u001b[39;00m \u001b[38;5;167;01mKeyboardInterrupt\u001b[39;00m(msg) \u001b[38;5;28;01mfrom\u001b[39;00m \u001b[38;5;28;01mNone\u001b[39;00m\n\u001b[1;32m   1326\u001b[0m \u001b[38;5;28;01mexcept\u001b[39;00m \u001b[38;5;167;01mException\u001b[39;00m:\n\u001b[1;32m   1327\u001b[0m     \u001b[38;5;28mself\u001b[39m\u001b[38;5;241m.\u001b[39mlog\u001b[38;5;241m.\u001b[39mwarning(\u001b[38;5;124m\"\u001b[39m\u001b[38;5;124mInvalid Message:\u001b[39m\u001b[38;5;124m\"\u001b[39m, exc_info\u001b[38;5;241m=\u001b[39m\u001b[38;5;28;01mTrue\u001b[39;00m)\n",
      "\u001b[0;31mKeyboardInterrupt\u001b[0m: Interrupted by user"
     ]
    }
   ],
   "source": [
    "\n",
    "while True:\n",
    "    user_input = input(\"User: \").lower()\n",
    "    \n",
    "    if \"buy course\" in user_input:\n",
    "        # Purchase course flow\n",
    "        course_name = \"Blockchain Fundamentals\"\n",
    "        price_xrp = 10.0\n",
    "        show_payment_instructions(course_name, price_xrp)\n",
    "    \n",
    "    elif \"transaction hash\" in user_input:\n",
    "        # Verify payment\n",
    "        transaction_hash = input(\"Please enter the transaction hash: \")\n",
    "        if verify_payment(transaction_hash, 10.0):\n",
    "            print(\"Access granted! You will receive the course materials shortly.\")\n",
    "        else:\n",
    "            print(\"Payment verification failed. Please try again.\")\n",
    "    \n",
    "    elif \"exit\" in user_input:\n",
    "        print(\"Exiting chatbot. Goodbye!\")\n",
    "        break\n",
    "    else:\n",
    "        print(\"Chatbot: I'm sorry, I didn't understand that. Try 'buy course' or 'exit'.\")\n"
   ]
  }
 ],
 "metadata": {
  "kernelspec": {
   "display_name": ".venv",
   "language": "python",
   "name": "python3"
  },
  "language_info": {
   "codemirror_mode": {
    "name": "ipython",
    "version": 3
   },
   "file_extension": ".py",
   "mimetype": "text/x-python",
   "name": "python",
   "nbconvert_exporter": "python",
   "pygments_lexer": "ipython3",
   "version": "3.12.3"
  }
 },
 "nbformat": 4,
 "nbformat_minor": 5
}
