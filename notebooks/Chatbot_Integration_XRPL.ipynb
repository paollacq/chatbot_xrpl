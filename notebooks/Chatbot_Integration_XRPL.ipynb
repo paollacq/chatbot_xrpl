{
 "cells": [
  {
   "cell_type": "markdown",
   "id": "b4e3467c",
   "metadata": {},
   "source": [
    "### XRPL Testnet Wallet Configuration"
   ]
  },
  {
   "cell_type": "code",
   "execution_count": 1,
   "id": "1903583c",
   "metadata": {},
   "outputs": [
    {
     "name": "stdout",
     "output_type": "stream",
     "text": [
      "Testnet Wallet Address: rsSpREhiXEbgohYk1njMSc5M5pGNrNbGsS\n",
      "Testnet Wallet Seed: sEd7uSgsBgFR94YB1rXSsuBh2TGD3rU\n"
     ]
    }
   ],
   "source": [
    "\n",
    "from xrpl.wallet import Wallet\n",
    "\n",
    "# Generate a Testnet Wallet\n",
    "wallet = Wallet.create()\n",
    "print(\"Testnet Wallet Address:\", wallet.classic_address)\n",
    "print(\"Testnet Wallet Seed:\", wallet.seed)\n"
   ]
  },
  {
   "cell_type": "markdown",
   "id": "36bcfa23",
   "metadata": {},
   "source": [
    "### Display Payment Instructions"
   ]
  },
  {
   "cell_type": "code",
   "execution_count": 2,
   "id": "975d950c",
   "metadata": {},
   "outputs": [
    {
     "name": "stdout",
     "output_type": "stream",
     "text": [
      "To purchase the course **Blockchain Fundamentals**, please follow these steps:\n",
      "1. Send **10.0 XRP** to the following XRPL Testnet wallet address:\n",
      "   **rsSpREhiXEbgohYk1njMSc5M5pGNrNbGsS**\n",
      "\n",
      "2. Use any XRPL-compatible wallet like [XRP Faucet](https://xrpl.org/xrp-testnet-faucet.html) to get Testnet XRP.\n",
      "\n",
      "3. After completing the transaction, provide the **transaction hash** here for verification.\n",
      "\n"
     ]
    }
   ],
   "source": [
    "\n",
    "def show_payment_instructions(course_name, price_xrp):\n",
    "    response_message = f\"\"\"To purchase the course **{course_name}**, please follow these steps:\n",
    "1. Send **{price_xrp} XRP** to the following XRPL Testnet wallet address:\n",
    "   **{wallet.classic_address}**\n",
    "\n",
    "2. Use any XRPL-compatible wallet like [XRP Faucet](https://xrpl.org/xrp-testnet-faucet.html) to get Testnet XRP.\n",
    "\n",
    "3. After completing the transaction, provide the **transaction hash** here for verification.\n",
    "\"\"\"\n",
    "    print(response_message)\n",
    "\n",
    "# Example call\n",
    "show_payment_instructions(\"Blockchain Fundamentals\", 10.0)\n"
   ]
  },
  {
   "cell_type": "markdown",
   "id": "51d58723",
   "metadata": {},
   "source": [
    "### Verify Payment on XRPL Testnet"
   ]
  },
  {
   "cell_type": "code",
   "execution_count": 3,
   "id": "a742ef42",
   "metadata": {},
   "outputs": [
    {
     "name": "stdout",
     "output_type": "stream",
     "text": [
      "Error verifying the transaction: 'validated'\n"
     ]
    },
    {
     "data": {
      "text/plain": [
       "False"
      ]
     },
     "execution_count": 3,
     "metadata": {},
     "output_type": "execute_result"
    }
   ],
   "source": [
    "import httpx\n",
    "\n",
    "# XRPL Testnet RPC URL\n",
    "TESTNET_RPC = \"https://s.altnet.rippletest.net:51234/\"\n",
    "\n",
    "def verify_payment(transaction_hash, expected_amount):\n",
    "    try:\n",
    "        # Chamada manual ao XRPL RPC usando httpx\n",
    "        payload = {\n",
    "            \"method\": \"tx\",\n",
    "            \"params\": [\n",
    "                {\"transaction\": transaction_hash, \"binary\": False}\n",
    "            ]\n",
    "        }\n",
    "        response = httpx.post(TESTNET_RPC, json=payload)\n",
    "        result = response.json()\n",
    "\n",
    "        # Verificar se a transação foi validada\n",
    "        if \"result\" in result and result[\"result\"][\"validated\"]:\n",
    "            delivered_amount = int(result[\"result\"].get(\"meta\", {}).get(\"delivered_amount\", 0)) / 1_000_000\n",
    "            if delivered_amount >= expected_amount:\n",
    "                print(\"Payment verified successfully!\")\n",
    "                return True\n",
    "            else:\n",
    "                print(f\"Insufficient payment. Expected {expected_amount} XRP but received {delivered_amount} XRP.\")\n",
    "        else:\n",
    "            print(\"Transaction not yet validated on the ledger.\")\n",
    "    except Exception as e:\n",
    "        print(f\"Error verifying the transaction: {e}\")\n",
    "    return False\n",
    "\n",
    "# Solicitação do hash da transação\n",
    "transaction_hash = input(\"Enter the transaction hash: \")\n",
    "verify_payment(transaction_hash, 10.0)\n"
   ]
  },
  {
   "cell_type": "markdown",
   "id": "53dfcca0",
   "metadata": {},
   "source": [
    "### Main Chatbot Logic with XRP Payment Integration"
   ]
  },
  {
   "cell_type": "code",
   "execution_count": 4,
   "id": "d968ed2a",
   "metadata": {},
   "outputs": [
    {
     "name": "stdout",
     "output_type": "stream",
     "text": [
      "Chatbot: I'm sorry, I didn't understand that. Try 'buy course' or 'exit'.\n",
      "Chatbot: I'm sorry, I didn't understand that. Try 'buy course' or 'exit'.\n",
      "Chatbot: I'm sorry, I didn't understand that. Try 'buy course' or 'exit'.\n",
      "Chatbot: I'm sorry, I didn't understand that. Try 'buy course' or 'exit'.\n",
      "Chatbot: I'm sorry, I didn't understand that. Try 'buy course' or 'exit'.\n",
      "Chatbot: I'm sorry, I didn't understand that. Try 'buy course' or 'exit'.\n",
      "Chatbot: I'm sorry, I didn't understand that. Try 'buy course' or 'exit'.\n",
      "Chatbot: I'm sorry, I didn't understand that. Try 'buy course' or 'exit'.\n",
      "Chatbot: I'm sorry, I didn't understand that. Try 'buy course' or 'exit'.\n",
      "Chatbot: I'm sorry, I didn't understand that. Try 'buy course' or 'exit'.\n",
      "Chatbot: I'm sorry, I didn't understand that. Try 'buy course' or 'exit'.\n",
      "Chatbot: I'm sorry, I didn't understand that. Try 'buy course' or 'exit'.\n",
      "Chatbot: I'm sorry, I didn't understand that. Try 'buy course' or 'exit'.\n",
      "Chatbot: I'm sorry, I didn't understand that. Try 'buy course' or 'exit'.\n",
      "Chatbot: I'm sorry, I didn't understand that. Try 'buy course' or 'exit'.\n",
      "Chatbot: I'm sorry, I didn't understand that. Try 'buy course' or 'exit'.\n",
      "Chatbot: I'm sorry, I didn't understand that. Try 'buy course' or 'exit'.\n",
      "Chatbot: I'm sorry, I didn't understand that. Try 'buy course' or 'exit'.\n",
      "Chatbot: I'm sorry, I didn't understand that. Try 'buy course' or 'exit'.\n",
      "Chatbot: I'm sorry, I didn't understand that. Try 'buy course' or 'exit'.\n",
      "Chatbot: I'm sorry, I didn't understand that. Try 'buy course' or 'exit'.\n",
      "Chatbot: I'm sorry, I didn't understand that. Try 'buy course' or 'exit'.\n",
      "Chatbot: I'm sorry, I didn't understand that. Try 'buy course' or 'exit'.\n",
      "Chatbot: I'm sorry, I didn't understand that. Try 'buy course' or 'exit'.\n",
      "Chatbot: I'm sorry, I didn't understand that. Try 'buy course' or 'exit'.\n",
      "Chatbot: I'm sorry, I didn't understand that. Try 'buy course' or 'exit'.\n",
      "Chatbot: I'm sorry, I didn't understand that. Try 'buy course' or 'exit'.\n",
      "Chatbot: I'm sorry, I didn't understand that. Try 'buy course' or 'exit'.\n",
      "Chatbot: I'm sorry, I didn't understand that. Try 'buy course' or 'exit'.\n",
      "Chatbot: I'm sorry, I didn't understand that. Try 'buy course' or 'exit'.\n",
      "Chatbot: I'm sorry, I didn't understand that. Try 'buy course' or 'exit'.\n",
      "Chatbot: I'm sorry, I didn't understand that. Try 'buy course' or 'exit'.\n",
      "Chatbot: I'm sorry, I didn't understand that. Try 'buy course' or 'exit'.\n",
      "Chatbot: I'm sorry, I didn't understand that. Try 'buy course' or 'exit'.\n",
      "Chatbot: I'm sorry, I didn't understand that. Try 'buy course' or 'exit'.\n",
      "Chatbot: I'm sorry, I didn't understand that. Try 'buy course' or 'exit'.\n",
      "Chatbot: I'm sorry, I didn't understand that. Try 'buy course' or 'exit'.\n",
      "Chatbot: I'm sorry, I didn't understand that. Try 'buy course' or 'exit'.\n"
     ]
    },
    {
     "ename": "KeyboardInterrupt",
     "evalue": "Interrupted by user",
     "output_type": "error",
     "traceback": [
      "\u001b[0;31m---------------------------------------------------------------------------\u001b[0m",
      "\u001b[0;31mKeyboardInterrupt\u001b[0m                         Traceback (most recent call last)",
      "Cell \u001b[0;32mIn[4], line 2\u001b[0m\n\u001b[1;32m      1\u001b[0m \u001b[38;5;28;01mwhile\u001b[39;00m \u001b[38;5;28;01mTrue\u001b[39;00m:\n\u001b[0;32m----> 2\u001b[0m     user_input \u001b[38;5;241m=\u001b[39m \u001b[38;5;28;43minput\u001b[39;49m\u001b[43m(\u001b[49m\u001b[38;5;124;43m\"\u001b[39;49m\u001b[38;5;124;43mUser: \u001b[39;49m\u001b[38;5;124;43m\"\u001b[39;49m\u001b[43m)\u001b[49m\u001b[38;5;241m.\u001b[39mlower()\n\u001b[1;32m      4\u001b[0m     \u001b[38;5;28;01mif\u001b[39;00m \u001b[38;5;124m\"\u001b[39m\u001b[38;5;124mbuy course\u001b[39m\u001b[38;5;124m\"\u001b[39m \u001b[38;5;129;01min\u001b[39;00m user_input:\n\u001b[1;32m      5\u001b[0m         \u001b[38;5;66;03m# Purchase course flow\u001b[39;00m\n\u001b[1;32m      6\u001b[0m         course_name \u001b[38;5;241m=\u001b[39m \u001b[38;5;124m\"\u001b[39m\u001b[38;5;124mBlockchain Fundamentals\u001b[39m\u001b[38;5;124m\"\u001b[39m\n",
      "File \u001b[0;32m/usr/lib/python3/dist-packages/ipykernel/kernelbase.py:1282\u001b[0m, in \u001b[0;36mKernel.raw_input\u001b[0;34m(self, prompt)\u001b[0m\n\u001b[1;32m   1280\u001b[0m     msg \u001b[38;5;241m=\u001b[39m \u001b[38;5;124m\"\u001b[39m\u001b[38;5;124mraw_input was called, but this frontend does not support input requests.\u001b[39m\u001b[38;5;124m\"\u001b[39m\n\u001b[1;32m   1281\u001b[0m     \u001b[38;5;28;01mraise\u001b[39;00m StdinNotImplementedError(msg)\n\u001b[0;32m-> 1282\u001b[0m \u001b[38;5;28;01mreturn\u001b[39;00m \u001b[38;5;28;43mself\u001b[39;49m\u001b[38;5;241;43m.\u001b[39;49m\u001b[43m_input_request\u001b[49m\u001b[43m(\u001b[49m\n\u001b[1;32m   1283\u001b[0m \u001b[43m    \u001b[49m\u001b[38;5;28;43mstr\u001b[39;49m\u001b[43m(\u001b[49m\u001b[43mprompt\u001b[49m\u001b[43m)\u001b[49m\u001b[43m,\u001b[49m\n\u001b[1;32m   1284\u001b[0m \u001b[43m    \u001b[49m\u001b[38;5;28;43mself\u001b[39;49m\u001b[38;5;241;43m.\u001b[39;49m\u001b[43m_parent_ident\u001b[49m\u001b[43m[\u001b[49m\u001b[38;5;124;43m\"\u001b[39;49m\u001b[38;5;124;43mshell\u001b[39;49m\u001b[38;5;124;43m\"\u001b[39;49m\u001b[43m]\u001b[49m\u001b[43m,\u001b[49m\n\u001b[1;32m   1285\u001b[0m \u001b[43m    \u001b[49m\u001b[38;5;28;43mself\u001b[39;49m\u001b[38;5;241;43m.\u001b[39;49m\u001b[43mget_parent\u001b[49m\u001b[43m(\u001b[49m\u001b[38;5;124;43m\"\u001b[39;49m\u001b[38;5;124;43mshell\u001b[39;49m\u001b[38;5;124;43m\"\u001b[39;49m\u001b[43m)\u001b[49m\u001b[43m,\u001b[49m\n\u001b[1;32m   1286\u001b[0m \u001b[43m    \u001b[49m\u001b[43mpassword\u001b[49m\u001b[38;5;241;43m=\u001b[39;49m\u001b[38;5;28;43;01mFalse\u001b[39;49;00m\u001b[43m,\u001b[49m\n\u001b[1;32m   1287\u001b[0m \u001b[43m\u001b[49m\u001b[43m)\u001b[49m\n",
      "File \u001b[0;32m/usr/lib/python3/dist-packages/ipykernel/kernelbase.py:1325\u001b[0m, in \u001b[0;36mKernel._input_request\u001b[0;34m(self, prompt, ident, parent, password)\u001b[0m\n\u001b[1;32m   1322\u001b[0m \u001b[38;5;28;01mexcept\u001b[39;00m \u001b[38;5;167;01mKeyboardInterrupt\u001b[39;00m:\n\u001b[1;32m   1323\u001b[0m     \u001b[38;5;66;03m# re-raise KeyboardInterrupt, to truncate traceback\u001b[39;00m\n\u001b[1;32m   1324\u001b[0m     msg \u001b[38;5;241m=\u001b[39m \u001b[38;5;124m\"\u001b[39m\u001b[38;5;124mInterrupted by user\u001b[39m\u001b[38;5;124m\"\u001b[39m\n\u001b[0;32m-> 1325\u001b[0m     \u001b[38;5;28;01mraise\u001b[39;00m \u001b[38;5;167;01mKeyboardInterrupt\u001b[39;00m(msg) \u001b[38;5;28;01mfrom\u001b[39;00m \u001b[38;5;28;01mNone\u001b[39;00m\n\u001b[1;32m   1326\u001b[0m \u001b[38;5;28;01mexcept\u001b[39;00m \u001b[38;5;167;01mException\u001b[39;00m:\n\u001b[1;32m   1327\u001b[0m     \u001b[38;5;28mself\u001b[39m\u001b[38;5;241m.\u001b[39mlog\u001b[38;5;241m.\u001b[39mwarning(\u001b[38;5;124m\"\u001b[39m\u001b[38;5;124mInvalid Message:\u001b[39m\u001b[38;5;124m\"\u001b[39m, exc_info\u001b[38;5;241m=\u001b[39m\u001b[38;5;28;01mTrue\u001b[39;00m)\n",
      "\u001b[0;31mKeyboardInterrupt\u001b[0m: Interrupted by user"
     ]
    }
   ],
   "source": [
    "\n",
    "while True:\n",
    "    user_input = input(\"User: \").lower()\n",
    "    \n",
    "    if \"buy course\" in user_input:\n",
    "        # Purchase course flow\n",
    "        course_name = \"Blockchain Fundamentals\"\n",
    "        price_xrp = 10.0\n",
    "        show_payment_instructions(course_name, price_xrp)\n",
    "    \n",
    "    elif \"transaction hash\" in user_input:\n",
    "        # Verify payment\n",
    "        transaction_hash = input(\"Please enter the transaction hash: \")\n",
    "        if verify_payment(transaction_hash, 10.0):\n",
    "            print(\"Access granted! You will receive the course materials shortly.\")\n",
    "        else:\n",
    "            print(\"Payment verification failed. Please try again.\")\n",
    "    \n",
    "    elif \"exit\" in user_input:\n",
    "        print(\"Exiting chatbot. Goodbye!\")\n",
    "        break\n",
    "    else:\n",
    "        print(\"Chatbot: I'm sorry, I didn't understand that. Try 'buy course' or 'exit'.\")\n"
   ]
  }
 ],
 "metadata": {
  "kernelspec": {
   "display_name": "venv",
   "language": "python",
   "name": "python3"
  },
  "language_info": {
   "codemirror_mode": {
    "name": "ipython",
    "version": 3
   },
   "file_extension": ".py",
   "mimetype": "text/x-python",
   "name": "python",
   "nbconvert_exporter": "python",
   "pygments_lexer": "ipython3",
   "version": "3.12.3"
  }
 },
 "nbformat": 4,
 "nbformat_minor": 5
}
