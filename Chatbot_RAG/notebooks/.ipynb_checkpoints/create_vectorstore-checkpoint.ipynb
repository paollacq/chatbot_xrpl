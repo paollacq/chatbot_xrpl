{
 "cells": [
  {
   "cell_type": "markdown",
   "id": "7e6ee02a-386b-4e63-9ff1-72d27f040631",
   "metadata": {},
   "source": [
    "# Dependencies"
   ]
  },
  {
   "cell_type": "code",
   "execution_count": 1,
   "id": "075b4c42-8fba-4290-8095-51e5fc38b0ec",
   "metadata": {},
   "outputs": [],
   "source": [
    "from langchain.vectorstores import Chroma\n",
    "from langchain.embeddings import OpenAIEmbeddings, HuggingFaceEmbeddings, GooglePalmEmbeddings\n",
    "from langchain.text_splitter import CharacterTextSplitter\n",
    "from langchain.retrievers.document_compressors import DocumentCompressorPipeline\n",
    "from langchain.retrievers import ContextualCompressionRetriever\n",
    "from langchain_community.document_transformers import EmbeddingsRedundantFilter, LongContextReorder\n",
    "from langchain.retrievers.document_compressors import EmbeddingsFilter\n",
    "from sklearn.metrics.pairwise import cosine_similarity\n",
    "import numpy as np\n",
    "import pickle\n",
    "import os\n",
    "from pathlib import Path"
   ]
  },
  {
   "cell_type": "markdown",
   "id": "930c56ce-a121-4f8d-a50d-50fcd42858a6",
   "metadata": {},
   "source": [
    "# vectorstore"
   ]
  },
  {
   "cell_type": "code",
   "execution_count": 2,
   "id": "ffe09204-c587-4e1e-88b4-0be840dab47c",
   "metadata": {},
   "outputs": [],
   "source": [
    "LOCAL_VECTOR_STORE_DIR = Path(\"../data/vectorstore\")"
   ]
  },
  {
   "cell_type": "markdown",
   "id": "ce263f64-5d87-4b96-aa7a-260a81275941",
   "metadata": {},
   "source": [
    "# Function to create a vectorstore"
   ]
  },
  {
   "cell_type": "code",
   "execution_count": 3,
   "id": "e6d83ffb-20b9-40d1-a90b-1068341763c2",
   "metadata": {},
   "outputs": [],
   "source": [
    "def create_vectorstore(embeddings, documents, vectorstore_name):\n",
    "    \"\"\"Create a Chroma vectorstore with persistence.\"\"\"\n",
    "    persist_directory = LOCAL_VECTOR_STORE_DIR.as_posix() + \"/\" + vectorstore_name\n",
    "    vector_store = Chroma.from_documents(\n",
    "        documents=documents,\n",
    "        embedding=embeddings,\n",
    "        persist_directory=persist_directory\n",
    "    )\n",
    "    vector_store.persist()\n",
    "    return vector_store"
   ]
  },
  {
   "cell_type": "markdown",
   "id": "2f64fe25-77c8-438c-9845-a18999a02cad",
   "metadata": {},
   "source": [
    "# Function to select embeddings provider"
   ]
  },
  {
   "cell_type": "code",
   "execution_count": 4,
   "id": "3d591caa-4cb0-4dc9-9c32-fa2dd2af1951",
   "metadata": {},
   "outputs": [],
   "source": [
    "def select_embeddings(provider):\n",
    "    if provider == \"openai\":\n",
    "        return OpenAIEmbeddings()\n",
    "    elif provider == \"huggingface\":\n",
    "        return HuggingFaceEmbeddings(model_name=\"thenlper/gte-large\") # \"all-MiniLM-L6-v2\" \"thenlper/gte-large\"\n",
    "    elif provider == \"google\":\n",
    "        return GooglePalmEmbeddings(google_api_key=os.getenv(\"GOOGLE_API_KEY\"))\n",
    "    else:\n",
    "        raise ValueError(\"Invalid provider.\")"
   ]
  },
  {
   "cell_type": "markdown",
   "id": "df64fbc0-ebfd-4bb7-b332-75a7c76ef8c6",
   "metadata": {},
   "source": [
    "# Function to create a vectorstore-based retriever"
   ]
  },
  {
   "cell_type": "code",
   "execution_count": 5,
   "id": "c608879a-1669-4296-b3fe-e0c753142f73",
   "metadata": {},
   "outputs": [],
   "source": [
    "def create_retriever(vectorstore, search_type=\"similarity\", k=10, score_threshold=None):\n",
    "    \"\"\"Create a retriever based on the vectorstore.\"\"\"\n",
    "    search_kwargs = {}\n",
    "    if k is not None:\n",
    "        search_kwargs['k'] = k\n",
    "    if score_threshold is not None:\n",
    "        search_kwargs['score_threshold'] = score_threshold\n",
    "\n",
    "    retriever = vectorstore.as_retriever(\n",
    "        search_type=search_type,\n",
    "        search_kwargs=search_kwargs\n",
    "    )\n",
    "    return retriever"
   ]
  },
  {
   "cell_type": "markdown",
   "id": "83f6f199-b101-4c3a-882d-fadc6a3e09ff",
   "metadata": {},
   "source": [
    "# Function to create a contextual compression retriever"
   ]
  },
  {
   "cell_type": "code",
   "execution_count": 6,
   "id": "beac5a1e-3841-40c5-a60a-8423833be1c7",
   "metadata": {},
   "outputs": [],
   "source": [
    "def create_compression_retriever(embeddings, base_retriever, chunk_size=3000, k=10, similarity_threshold=0.8):\n",
    "    \"\"\"Create a ContextualCompressionRetriever.\"\"\"\n",
    "    splitter = CharacterTextSplitter(chunk_size=chunk_size, chunk_overlap=100)\n",
    "    redundant_filter = EmbeddingsRedundantFilter(embeddings=embeddings)\n",
    "    relevant_filter = EmbeddingsFilter(embeddings=embeddings, k=k, similarity_threshold=similarity_threshold)\n",
    "    reordering = LongContextReorder()\n",
    "\n",
    "    pipeline_compressor = DocumentCompressorPipeline(\n",
    "        transformers=[splitter, redundant_filter, relevant_filter, reordering]\n",
    "    )\n",
    "    compression_retriever = ContextualCompressionRetriever(\n",
    "        base_compressor=pipeline_compressor, \n",
    "        base_retriever=base_retriever\n",
    "    )\n",
    "    return compression_retriever"
   ]
  },
  {
   "cell_type": "markdown",
   "id": "227854f4-1668-4ad2-938b-3409f649a88e",
   "metadata": {},
   "source": [
    "# Remove duplicates"
   ]
  },
  {
   "cell_type": "code",
   "execution_count": 7,
   "id": "f0dc9095-0c39-4940-bd53-77e3e0b2c26f",
   "metadata": {},
   "outputs": [],
   "source": [
    "def remove_duplicates(results):\n",
    "    seen = set()\n",
    "    unique_results = []\n",
    "    for result in results:\n",
    "        if result[0] not in seen:  # result[0] é o conteúdo do fragmento\n",
    "            seen.add(result[0])\n",
    "            unique_results.append(result)\n",
    "    return unique_results\n"
   ]
  },
  {
   "cell_type": "markdown",
   "id": "4b55c13b-1b4a-4d48-af48-f0fd0cca3253",
   "metadata": {},
   "source": [
    "# Retrieve documents along with similarity scores and sort them by relevance."
   ]
  },
  {
   "cell_type": "code",
   "execution_count": 8,
   "id": "e385ea4a-5c16-4ef7-84d9-53632b77b127",
   "metadata": {},
   "outputs": [],
   "source": [
    "def retrieve_with_scores(retriever, query, embeddings, k=4):\n",
    "    results = retriever.get_relevant_documents(query)\n",
    "    query_embedding = embeddings.embed_query(query)\n",
    "\n",
    "    # Calculate similarity scores manually\n",
    "    results_with_scores = []\n",
    "    for result in results:\n",
    "        doc_embedding = embeddings.embed_query(result.page_content)\n",
    "        similarity = cosine_similarity(\n",
    "            np.array(query_embedding).reshape(1, -1),\n",
    "            np.array(doc_embedding).reshape(1, -1)\n",
    "        )[0][0]  # Extract the similarity score\n",
    "        results_with_scores.append((result.page_content, result.metadata, similarity))\n",
    "\n",
    "    # Sort results by similarity score\n",
    "    sorted_results = sorted(results_with_scores, key=lambda x: x[2], reverse=True)\n",
    "\n",
    "    # Remove duplicates\n",
    "    unique_results = remove_duplicates(sorted_results)\n",
    "    return unique_results[:k]\n"
   ]
  },
  {
   "cell_type": "markdown",
   "id": "912ef363-3294-45ac-9507-8143d17de238",
   "metadata": {},
   "source": [
    "# Load document fragments"
   ]
  },
  {
   "cell_type": "code",
   "execution_count": 9,
   "id": "5aeacd38-f095-4bf4-8314-1e7f9a192e1d",
   "metadata": {},
   "outputs": [
    {
     "name": "stdout",
     "output_type": "stream",
     "text": [
      "Fragments loaded: 9\n"
     ]
    }
   ],
   "source": [
    "with open(\"../data/fragments.pkl\", \"rb\") as f:\n",
    "    fragments = pickle.load(f)\n",
    "\n",
    "print(f\"Fragments loaded: {len(fragments)}\")"
   ]
  },
  {
   "cell_type": "markdown",
   "id": "aeaaad68-e42f-4685-8be9-af5114f66aee",
   "metadata": {},
   "source": [
    "# Configure embeddings provider"
   ]
  },
  {
   "cell_type": "code",
   "execution_count": 10,
   "id": "d4e47bb1-838c-43ba-bdc1-52e68fa9236e",
   "metadata": {},
   "outputs": [],
   "source": [
    "provider = \"huggingface\"  # Change to \"openai\" or \"google\"\n",
    "embeddings = select_embeddings(provider)"
   ]
  },
  {
   "cell_type": "markdown",
   "id": "fa229db0-b5e3-47e9-b87b-4353489dff4d",
   "metadata": {},
   "source": [
    "# Create vectorstore"
   ]
  },
  {
   "cell_type": "code",
   "execution_count": 11,
   "id": "97f7bbcc-560e-455f-a662-4c62c8d8cbdb",
   "metadata": {},
   "outputs": [],
   "source": [
    "vectorstore_name = \"my_vectorstore\"\n",
    "vectorstore = create_vectorstore(embeddings, fragments, vectorstore_name)"
   ]
  },
  {
   "cell_type": "markdown",
   "id": "21e5bdcd-84e6-46a4-b245-a22993ade777",
   "metadata": {},
   "source": [
    "# Create a basic retriever"
   ]
  },
  {
   "cell_type": "code",
   "execution_count": 12,
   "id": "6da525cd-fae6-4131-867e-1ccf29253b90",
   "metadata": {},
   "outputs": [],
   "source": [
    "retriever = create_retriever(vectorstore, search_type=\"similarity\", k=4)"
   ]
  },
  {
   "cell_type": "markdown",
   "id": "aa937e6c-d10d-417e-a8ab-7dd6f5f12826",
   "metadata": {},
   "source": [
    "# Create a contextual compression retriever"
   ]
  },
  {
   "cell_type": "code",
   "execution_count": 13,
   "id": "4261f2c0-69ac-4cd0-91d1-7cf79bef076a",
   "metadata": {},
   "outputs": [],
   "source": [
    "compression_retriever = create_compression_retriever(\n",
    "    embeddings=embeddings, \n",
    "    base_retriever=retriever, \n",
    "    chunk_size=500, \n",
    "    k=16, \n",
    "    similarity_threshold=0.8\n",
    ")\n"
   ]
  },
  {
   "cell_type": "markdown",
   "id": "6a984855-4204-46d8-9257-d8818dfe6bf1",
   "metadata": {},
   "source": [
    "# Test retrieval with the basic retriever\n"
   ]
  },
  {
   "cell_type": "code",
   "execution_count": 14,
   "id": "a4551a0f-8ed9-44fa-acc0-9eb6e32bb3ce",
   "metadata": {},
   "outputs": [
    {
     "name": "stdout",
     "output_type": "stream",
     "text": [
      "Search results (Basic Retriever):\n",
      "- Text: Course 1: Blockchain Fundamentals What You'll Learn ● Understand the basic concepts of blockchain, i...\n",
      "  Metadata: {'page': 0, 'source': '..\\\\data\\\\docs\\\\Informações dos cursos.pdf'}\n",
      "- Text: not require any prior knowledge. It provides a strong foundation to understand blockchain and its us...\n",
      "  Metadata: {'page': 2, 'source': '..\\\\data\\\\docs\\\\Informações dos cursos.pdf'}\n",
      "- Text: ● Use XRPL for fast, low-cost transactions. ● Explore specific tools for decentralized trading. ● De...\n",
      "  Metadata: {'page': 2, 'source': '..\\\\data\\\\docs\\\\Informações dos cursos.pdf'}\n",
      "- Text: Course 1: Blockchain Fundamentals ○ Original Price: $50.00 ○ Discounted Price: $45.00 2. Course 2: B...\n",
      "  Metadata: {'page': 4, 'source': '..\\\\data\\\\docs\\\\Informações dos cursos.pdf'}\n"
     ]
    }
   ],
   "source": [
    "query = \"Which course is best for beginners?\"\n",
    "results = retriever.get_relevant_documents(query)\n",
    "\n",
    "print(\"Search results (Basic Retriever):\")\n",
    "for result in results:\n",
    "    print(f\"- Text: {result.page_content[:100]}...\")\n",
    "    print(f\"  Metadata: {result.metadata}\")\n"
   ]
  },
  {
   "cell_type": "code",
   "execution_count": 15,
   "id": "10dd8420-040b-40f8-9ac1-fc9af85ffa79",
   "metadata": {},
   "outputs": [
    {
     "name": "stdout",
     "output_type": "stream",
     "text": [
      "Search results (Basic Retriever):\n",
      "- Text: Course 1: Blockchain Fundamentals ○ Original Price: $50.00 ○ Discounted Price: $45.00 2. Course 2: B...\n",
      "  Metadata: {'page': 4, 'source': '..\\\\data\\\\docs\\\\Informações dos cursos.pdf'}\n",
      "- Text: Course 1: Blockchain Fundamentals What You'll Learn ● Understand the basic concepts of blockchain, i...\n",
      "  Metadata: {'page': 0, 'source': '..\\\\data\\\\docs\\\\Informações dos cursos.pdf'}\n",
      "- Text: not require any prior knowledge. It provides a strong foundation to understand blockchain and its us...\n",
      "  Metadata: {'page': 2, 'source': '..\\\\data\\\\docs\\\\Informações dos cursos.pdf'}\n",
      "- Text: ● Use XRPL for fast, low-cost transactions. ● Explore specific tools for decentralized trading. ● De...\n",
      "  Metadata: {'page': 2, 'source': '..\\\\data\\\\docs\\\\Informações dos cursos.pdf'}\n"
     ]
    }
   ],
   "source": [
    "query = \"How much does the Blockchain Fundamentals course cost?\"\n",
    "results = retriever.get_relevant_documents(query)\n",
    "\n",
    "print(\"Search results (Basic Retriever):\")\n",
    "for result in results:\n",
    "    print(f\"- Text: {result.page_content[:100]}...\")\n",
    "    print(f\"  Metadata: {result.metadata}\")"
   ]
  },
  {
   "cell_type": "code",
   "execution_count": 16,
   "id": "7073a071-dd39-42cf-9558-634b70b8ce96",
   "metadata": {},
   "outputs": [
    {
     "name": "stdout",
     "output_type": "stream",
     "text": [
      "Sorted results with calculated similarity:\n",
      "- Text: Course 1: Blockchain Fundamentals ○ Original Price: $50.00 ○ Discounted Price: $45.00 2. Course 2: B...\n",
      "  Metadata: {'page': 4, 'source': '..\\\\data\\\\docs\\\\Informações dos cursos.pdf'}\n",
      "  Similarity Score: 0.8672\n",
      "- Text: Included Materials ● Detailed video tutorials. ● Pre-configured contract templates for XRPL. ● Acces...\n",
      "  Metadata: {'page': 1, 'source': '..\\\\data\\\\docs\\\\Informações dos cursos.pdf'}\n",
      "  Similarity Score: 0.8081\n",
      "- Text: to take the courses? ○ Answer: No, a high-performance computer is not required. Here are the minimum...\n",
      "  Metadata: {'page': 3, 'source': '..\\\\data\\\\docs\\\\Informações dos cursos.pdf'}\n",
      "  Similarity Score: 0.8009\n",
      "- Text: ● Use XRPL for fast, low-cost transactions. ● Explore specific tools for decentralized trading. ● De...\n",
      "  Metadata: {'page': 2, 'source': '..\\\\data\\\\docs\\\\Informações dos cursos.pdf'}\n",
      "  Similarity Score: 0.7986\n"
     ]
    }
   ],
   "source": [
    "# Testar a recuperação com similaridade calculada manualmente\n",
    "query = \"What are the discounted prices for the courses?\"\n",
    "sorted_results = retrieve_with_scores(retriever, query, embeddings)\n",
    "\n",
    "# Exibir resultados\n",
    "print(\"Sorted results with calculated similarity:\")\n",
    "for text, metadata, score in sorted_results:\n",
    "    print(f\"- Text: {text[:100]}...\")\n",
    "    print(f\"  Metadata: {metadata}\")\n",
    "    print(f\"  Similarity Score: {score:.4f}\")\n"
   ]
  },
  {
   "cell_type": "code",
   "execution_count": 17,
   "id": "30f74235-d7fc-4a70-ae5c-513d987e5166",
   "metadata": {},
   "outputs": [
    {
     "name": "stdout",
     "output_type": "stream",
     "text": [
      "All sorted results:\n",
      "Result 1:\n",
      "- Text: Course 1: Blockchain Fundamentals ○ Original Price: $50.00 ○ Discounted Price: $45.00 2. Course 2: Blockchain in Practice with XRPL ○ Original Price: $80.00 ○ Discounted Price: $72.00 3. Course 3: Int...\n",
      "  Metadata: {'page': 4, 'source': '..\\\\data\\\\docs\\\\Informações dos cursos.pdf'}\n",
      "  Similarity Score: 0.8672\n",
      "\n",
      "Result 2:\n",
      "- Text: Included Materials ● Detailed video tutorials. ● Pre-configured contract templates for XRPL. ● Access to simulation tools. Certification ● Certificate awarded after completing a practical project, suc...\n",
      "  Metadata: {'page': 1, 'source': '..\\\\data\\\\docs\\\\Informações dos cursos.pdf'}\n",
      "  Similarity Score: 0.8081\n",
      "\n",
      "Result 3:\n",
      "- Text: to take the courses? ○ Answer: No, a high-performance computer is not required. Here are the minimum and recommended specifications: ● Minimum Requirements ○ Operating System: Windows 10, macOS Mojave...\n",
      "  Metadata: {'page': 3, 'source': '..\\\\data\\\\docs\\\\Informações dos cursos.pdf'}\n",
      "  Similarity Score: 0.8009\n",
      "\n",
      "Result 4:\n",
      "- Text: ● Use XRPL for fast, low-cost transactions. ● Explore specific tools for decentralized trading. ● Develop and execute trading strategies on the blockchain. Prerequisites ● Basic understanding of block...\n",
      "  Metadata: {'page': 2, 'source': '..\\\\data\\\\docs\\\\Informações dos cursos.pdf'}\n",
      "  Similarity Score: 0.7986\n",
      "\n"
     ]
    }
   ],
   "source": [
    "# Exibir todos os resultados sem limitar o número\n",
    "query = \"What are the discounted prices for the courses?\"\n",
    "results = retrieve_with_scores(retriever, query, embeddings, k=10)\n",
    "\n",
    "print(\"All sorted results:\")\n",
    "for i, (text, metadata, score) in enumerate(results):\n",
    "    print(f\"Result {i+1}:\")\n",
    "    print(f\"- Text: {text[:200]}...\")\n",
    "    print(f\"  Metadata: {metadata}\")\n",
    "    print(f\"  Similarity Score: {score:.4f}\\n\")\n"
   ]
  },
  {
   "cell_type": "code",
   "execution_count": null,
   "id": "2fa978f9-9e2c-4b0d-840c-f68520dc4e7a",
   "metadata": {},
   "outputs": [],
   "source": []
  }
 ],
 "metadata": {
  "kernelspec": {
   "display_name": "Python 3 (ipykernel)",
   "language": "python",
   "name": "python3"
  },
  "language_info": {
   "codemirror_mode": {
    "name": "ipython",
    "version": 3
   },
   "file_extension": ".py",
   "mimetype": "text/x-python",
   "name": "python",
   "nbconvert_exporter": "python",
   "pygments_lexer": "ipython3",
   "version": "3.10.15"
  }
 },
 "nbformat": 4,
 "nbformat_minor": 5
}
