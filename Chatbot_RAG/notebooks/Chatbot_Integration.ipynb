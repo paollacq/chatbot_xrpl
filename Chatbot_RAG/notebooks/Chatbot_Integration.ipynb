{
 "cells": [
  {
   "cell_type": "markdown",
   "id": "745dbbec-04ee-4d0c-ab93-421fa41bbb9e",
   "metadata": {},
   "source": [
    "# Dependencies"
   ]
  },
  {
   "cell_type": "code",
   "execution_count": 1,
   "id": "fdeb5da7-b13a-47e7-a8ea-8c0256902f59",
   "metadata": {},
   "outputs": [],
   "source": [
    "from flask import Flask, request, jsonify, render_template_string\n",
    "from flask_cors import CORS\n",
    "from langchain.vectorstores import Chroma\n",
    "from langchain.embeddings import HuggingFaceEmbeddings\n",
    "from langchain.chains import ConversationalRetrievalChain\n",
    "from langchain.memory import ConversationBufferMemory\n",
    "from transformers import AutoTokenizer, AutoModelForSeq2SeqLM, pipeline\n",
    "from langchain.llms import HuggingFacePipeline\n",
    "import threading\n"
   ]
  },
  {
   "cell_type": "markdown",
   "id": "4341fbe1-2238-403f-b21e-f32e2855d9a4",
   "metadata": {},
   "source": [
    "# Chatbot Configuration"
   ]
  },
  {
   "cell_type": "code",
   "execution_count": 2,
   "id": "a09f4c3a-aa9f-4573-aa90-0f74fa4665cb",
   "metadata": {},
   "outputs": [
    {
     "name": "stderr",
     "output_type": "stream",
     "text": [
      "Device set to use cpu\n"
     ]
    }
   ],
   "source": [
    "# Configuration of embeddings and LLM models\n",
    "embedding_model = \"thenlper/gte-large\"\n",
    "embeddings = HuggingFaceEmbeddings(model_name=embedding_model)\n",
    "\n",
    "# Load vectorstore\n",
    "vectorstore = Chroma(persist_directory=\"./vectorstore\", embedding_function=embeddings)\n",
    "\n",
    "# LLM Configuration\n",
    "llm_model_name = \"google/flan-t5-large\"\n",
    "tokenizer = AutoTokenizer.from_pretrained(llm_model_name)\n",
    "model = AutoModelForSeq2SeqLM.from_pretrained(llm_model_name)\n",
    "hf_pipeline = pipeline(\"text2text-generation\", model=model, tokenizer=tokenizer, max_length=1024)\n",
    "llm = HuggingFacePipeline(pipeline=hf_pipeline)\n",
    "\n",
    "# Conversational memory configuration\n",
    "memory = ConversationBufferMemory(memory_key=\"chat_history\", return_messages=True)\n",
    "\n",
    "# LangChain pipeline configuration\n",
    "qa_chain = ConversationalRetrievalChain.from_llm(\n",
    "    llm=llm,\n",
    "    retriever=vectorstore.as_retriever(),\n",
    "    memory=memory\n",
    ")\n"
   ]
  },
  {
   "cell_type": "markdown",
   "id": "3433b274-24cd-4e57-9210-16b5ff9f0093",
   "metadata": {},
   "source": [
    "# Flask Configuration"
   ]
  },
  {
   "cell_type": "code",
   "execution_count": 3,
   "id": "b8461440-f8f8-472b-b2ab-8e37783b200e",
   "metadata": {},
   "outputs": [],
   "source": [
    "# Flask server configuration\n",
    "app = Flask(__name__)\n",
    "CORS(app)\n",
    "\n",
    "# Route for interaction with the chatbot\n",
    "@app.route(\"/chat\", methods=[\"POST\"])\n",
    "def chat():\n",
    "    data = request.json\n",
    "    query = data.get(\"query\", \"\")\n",
    "    if not query:\n",
    "        return jsonify({\"error\": \"No query provided\"}), 400\n",
    "\n",
    "    try:\n",
    "        response = qa_chain({\"question\": query})\n",
    "        return jsonify({\"response\": response[\"answer\"]})\n",
    "    except Exception as e:\n",
    "        return jsonify({\"error\": str(e)}), 500\n",
    "\n",
    "# Route to display the frontend\n",
    "@app.route(\"/\")\n",
    "def index():\n",
    "    html = \"\"\"\n",
    "    <!DOCTYPE html>\n",
    "    <html lang=\"en\">\n",
    "    <head>\n",
    "        <meta charset=\"UTF-8\">\n",
    "        <meta name=\"viewport\" content=\"width=device-width, initial-scale=1.0\">\n",
    "        <title>Chatbot</title>\n",
    "        <style>\n",
    "            body {\n",
    "                font-family: Arial, sans-serif;\n",
    "                margin: 0;\n",
    "                padding: 0;\n",
    "                background: #f0f0f5;\n",
    "                display: flex;\n",
    "                justify-content: center;\n",
    "                align-items: center;\n",
    "                height: 100vh;\n",
    "            }\n",
    "            .chat-container {\n",
    "                width: 600px;\n",
    "                background: white;\n",
    "                padding: 20px;\n",
    "                border-radius: 10px;\n",
    "                box-shadow: 0 4px 8px rgba(0, 0, 0, 0.2);\n",
    "            }\n",
    "            .messages {\n",
    "                height: 300px;\n",
    "                overflow-y: auto;\n",
    "                border: 1px solid #ddd;\n",
    "                border-radius: 8px;\n",
    "                margin-bottom: 20px;\n",
    "                padding: 10px;\n",
    "                background: #f9f9f9;\n",
    "            }\n",
    "            .messages div {\n",
    "                margin: 10px 0;\n",
    "                padding: 8px;\n",
    "                border-radius: 5px;\n",
    "            }\n",
    "            .user {\n",
    "                background: #cce5ff;\n",
    "                align-self: flex-end;\n",
    "            }\n",
    "            .bot {\n",
    "                background: #d4edda;\n",
    "                align-self: flex-start;\n",
    "            }\n",
    "            input[type=\"text\"] {\n",
    "                width: calc(100% - 80px);\n",
    "                padding: 10px;\n",
    "                border: 1px solid #ddd;\n",
    "                border-radius: 5px;\n",
    "            }\n",
    "            button {\n",
    "                padding: 10px 20px;\n",
    "                border: none;\n",
    "                border-radius: 5px;\n",
    "                background: #007bff;\n",
    "                color: white;\n",
    "                cursor: pointer;\n",
    "            }\n",
    "            button:hover {\n",
    "                background: #0056b3;\n",
    "            }\n",
    "        </style>\n",
    "    </head>\n",
    "    <body>\n",
    "        <div class=\"chat-container\">\n",
    "            <div class=\"messages\" id=\"messages\"></div>\n",
    "            <input type=\"text\" id=\"userInput\" placeholder=\"Type 'exit' or 'bye' to leave...\">\n",
    "            <button onclick=\"sendMessage()\">Send</button>\n",
    "        </div>\n",
    "\n",
    "        <script>\n",
    "            const messagesDiv = document.getElementById(\"messages\");\n",
    "            \n",
    "            function initializeChat() {\n",
    "                appendMessage(\"Hello! How can I assist you today?\", \"bot\");\n",
    "            }\n",
    "\n",
    "            function appendMessage(message, sender) {\n",
    "                const messageDiv = document.createElement(\"div\");\n",
    "                messageDiv.textContent = message;\n",
    "                messageDiv.className = sender;\n",
    "                messagesDiv.appendChild(messageDiv);\n",
    "                messagesDiv.scrollTop = messagesDiv.scrollHeight;\n",
    "            }\n",
    "\n",
    "            async function sendMessage() {\n",
    "                const userInput = document.getElementById(\"userInput\").value;\n",
    "                if (!userInput) return;\n",
    "\n",
    "                appendMessage(userInput, \"user\");\n",
    "                document.getElementById(\"userInput\").value = \"\";\n",
    "\n",
    "                if (userInput.toLowerCase() === \"exit\" || userInput.toLowerCase() === \"bye\") {\n",
    "                appendMessage(\"Thank you for chatting with me. Goodbye!\", \"bot\");\n",
    "                return;\n",
    "                }\n",
    "\n",
    "                try {\n",
    "                    const response = await fetch(\"http://127.0.0.1:5000/chat\", {\n",
    "                        method: \"POST\",\n",
    "                        headers: { \"Content-Type\": \"application/json\" },\n",
    "                        body: JSON.stringify({ query: userInput })\n",
    "                    });\n",
    "                    const data = await response.json();\n",
    "                    if (data.response) {\n",
    "                        appendMessage(data.response, \"bot\");\n",
    "                    } else {\n",
    "                        appendMessage(\"Error: \" + (data.error || \"Unknown error\"), \"bot\");\n",
    "                    }\n",
    "                } catch (error) {\n",
    "                    appendMessage(\"Error: Unable to connect to the server.\", \"bot\");\n",
    "                }\n",
    "            }\n",
    "\n",
    "            // Inicializar o chat com uma mensagem\n",
    "            initializeChat();\n",
    "        </script>\n",
    "    </body>\n",
    "    </html>\n",
    "    \"\"\"\n",
    "    return render_template_string(html)"
   ]
  },
  {
   "cell_type": "markdown",
   "id": "eff4d05d-ac08-4bd9-aeaf-d2328d5636a6",
   "metadata": {},
   "source": [
    "# Server Initialization"
   ]
  },
  {
   "cell_type": "code",
   "execution_count": 4,
   "id": "f722bda0-cb2b-41f6-9f71-05c6cf2005f9",
   "metadata": {},
   "outputs": [
    {
     "name": "stdout",
     "output_type": "stream",
     "text": [
      " * Serving Flask app '__main__'\n",
      " * Debug mode: off\n"
     ]
    },
    {
     "name": "stderr",
     "output_type": "stream",
     "text": [
      "WARNING: This is a development server. Do not use it in a production deployment. Use a production WSGI server instead.\n",
      " * Running on http://127.0.0.1:5000\n",
      "Press CTRL+C to quit\n"
     ]
    }
   ],
   "source": [
    "# Start the Flask server in a separate thread\n",
    "def start_flask():\n",
    "    app.run(host=\"127.0.0.1\", port=5000, debug=False)\n",
    "\n",
    "import threading\n",
    "thread = threading.Thread(target=start_flask)\n",
    "thread.start()\n"
   ]
  },
  {
   "cell_type": "code",
   "execution_count": null,
   "id": "18b3d9d1-3472-419f-91df-dc3a9714ce07",
   "metadata": {},
   "outputs": [],
   "source": []
  }
 ],
 "metadata": {
  "kernelspec": {
   "display_name": "Python 3 (ipykernel)",
   "language": "python",
   "name": "python3"
  },
  "language_info": {
   "codemirror_mode": {
    "name": "ipython",
    "version": 3
   },
   "file_extension": ".py",
   "mimetype": "text/x-python",
   "name": "python",
   "nbconvert_exporter": "python",
   "pygments_lexer": "ipython3",
   "version": "3.10.15"
  }
 },
 "nbformat": 4,
 "nbformat_minor": 5
}
