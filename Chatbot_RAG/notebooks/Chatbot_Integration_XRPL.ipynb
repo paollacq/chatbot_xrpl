{
 "cells": [
  {
   "cell_type": "markdown",
   "id": "b4e3467c",
   "metadata": {},
   "source": [
    "### XRPL Testnet Wallet Configuration"
   ]
  },
  {
   "cell_type": "code",
   "execution_count": 1,
   "id": "1903583c",
   "metadata": {},
   "outputs": [
    {
     "name": "stdout",
     "output_type": "stream",
     "text": [
      "Testnet Wallet Address: rUwmp1kKWvBjXHC6EoeTkXceFJbRnZsEPA\n",
      "Testnet Wallet Seed: sEdS2gRvDeHSkDqqcvbnQS42fJLwbiA\n"
     ]
    }
   ],
   "source": [
    "\n",
    "from xrpl.wallet import Wallet\n",
    "\n",
    "# Generate a Testnet Wallet\n",
    "wallet = Wallet.create()\n",
    "print(\"Testnet Wallet Address:\", wallet.classic_address)\n",
    "print(\"Testnet Wallet Seed:\", wallet.seed)\n"
   ]
  },
  {
   "cell_type": "markdown",
   "id": "36bcfa23",
   "metadata": {},
   "source": [
    "### Display Payment Instructions"
   ]
  },
  {
   "cell_type": "code",
   "execution_count": 2,
   "id": "975d950c",
   "metadata": {},
   "outputs": [
    {
     "name": "stdout",
     "output_type": "stream",
     "text": [
      "To purchase the course **Blockchain Fundamentals**, please follow these steps:\n",
      "1. Send **10.0 XRP** to the following XRPL Testnet wallet address:\n",
      "   **rUwmp1kKWvBjXHC6EoeTkXceFJbRnZsEPA**\n",
      "\n",
      "2. Use any XRPL-compatible wallet like [XRP Faucet](https://xrpl.org/xrp-testnet-faucet.html) to get Testnet XRP.\n",
      "\n",
      "3. After completing the transaction, provide the **transaction hash** here for verification.\n",
      "\n"
     ]
    }
   ],
   "source": [
    "\n",
    "def show_payment_instructions(course_name, price_xrp):\n",
    "    response_message = f\"\"\"To purchase the course **{course_name}**, please follow these steps:\n",
    "1. Send **{price_xrp} XRP** to the following XRPL Testnet wallet address:\n",
    "   **{wallet.classic_address}**\n",
    "\n",
    "2. Use any XRPL-compatible wallet like [XRP Faucet](https://xrpl.org/xrp-testnet-faucet.html) to get Testnet XRP.\n",
    "\n",
    "3. After completing the transaction, provide the **transaction hash** here for verification.\n",
    "\"\"\"\n",
    "    print(response_message)\n",
    "\n",
    "# Example call\n",
    "show_payment_instructions(\"Blockchain Fundamentals\", 10.0)\n"
   ]
  },
  {
   "cell_type": "markdown",
   "id": "51d58723",
   "metadata": {},
   "source": [
    "### Verify Payment on XRPL Testnet"
   ]
  },
  {
   "cell_type": "code",
   "execution_count": 3,
   "id": "a742ef42",
   "metadata": {},
   "outputs": [
    {
     "name": "stdout",
     "output_type": "stream",
     "text": [
      "Error verifying the transaction: 'validated'\n"
     ]
    },
    {
     "data": {
      "text/plain": [
       "False"
      ]
     },
     "execution_count": 3,
     "metadata": {},
     "output_type": "execute_result"
    }
   ],
   "source": [
    "import httpx\n",
    "\n",
    "# XRPL Testnet RPC URL\n",
    "TESTNET_RPC = \"https://s.altnet.rippletest.net:51234/\"\n",
    "\n",
    "def verify_payment(transaction_hash, expected_amount):\n",
    "    try:\n",
    "        # Chamada manual ao XRPL RPC usando httpx\n",
    "        payload = {\n",
    "            \"method\": \"tx\",\n",
    "            \"params\": [\n",
    "                {\"transaction\": transaction_hash, \"binary\": False}\n",
    "            ]\n",
    "        }\n",
    "        response = httpx.post(TESTNET_RPC, json=payload)\n",
    "        result = response.json()\n",
    "\n",
    "        # Verificar se a transação foi validada\n",
    "        if \"result\" in result and result[\"result\"][\"validated\"]:\n",
    "            delivered_amount = int(result[\"result\"].get(\"meta\", {}).get(\"delivered_amount\", 0)) / 1_000_000\n",
    "            if delivered_amount >= expected_amount:\n",
    "                print(\"Payment verified successfully!\")\n",
    "                return True\n",
    "            else:\n",
    "                print(f\"Insufficient payment. Expected {expected_amount} XRP but received {delivered_amount} XRP.\")\n",
    "        else:\n",
    "            print(\"Transaction not yet validated on the ledger.\")\n",
    "    except Exception as e:\n",
    "        print(f\"Error verifying the transaction: {e}\")\n",
    "    return False\n",
    "\n",
    "# Solicitação do hash da transação\n",
    "transaction_hash = input(\"Enter the transaction hash: \")\n",
    "verify_payment(transaction_hash, 10.0)\n"
   ]
  },
  {
   "cell_type": "markdown",
   "id": "53dfcca0",
   "metadata": {},
   "source": [
    "### Main Chatbot Logic with XRP Payment Integration"
   ]
  },
  {
   "cell_type": "code",
   "execution_count": null,
   "id": "d968ed2a",
   "metadata": {},
   "outputs": [
    {
     "name": "stdout",
     "output_type": "stream",
     "text": [
      "Chatbot: I'm sorry, I didn't understand that. Try 'buy course' or 'exit'.\n",
      "Chatbot: I'm sorry, I didn't understand that. Try 'buy course' or 'exit'.\n",
      "Chatbot: I'm sorry, I didn't understand that. Try 'buy course' or 'exit'.\n",
      "Chatbot: I'm sorry, I didn't understand that. Try 'buy course' or 'exit'.\n",
      "Chatbot: I'm sorry, I didn't understand that. Try 'buy course' or 'exit'.\n",
      "Chatbot: I'm sorry, I didn't understand that. Try 'buy course' or 'exit'.\n",
      "Chatbot: I'm sorry, I didn't understand that. Try 'buy course' or 'exit'.\n",
      "Chatbot: I'm sorry, I didn't understand that. Try 'buy course' or 'exit'.\n",
      "Chatbot: I'm sorry, I didn't understand that. Try 'buy course' or 'exit'.\n",
      "Chatbot: I'm sorry, I didn't understand that. Try 'buy course' or 'exit'.\n",
      "Chatbot: I'm sorry, I didn't understand that. Try 'buy course' or 'exit'.\n",
      "Chatbot: I'm sorry, I didn't understand that. Try 'buy course' or 'exit'.\n",
      "Chatbot: I'm sorry, I didn't understand that. Try 'buy course' or 'exit'.\n",
      "Chatbot: I'm sorry, I didn't understand that. Try 'buy course' or 'exit'.\n",
      "Chatbot: I'm sorry, I didn't understand that. Try 'buy course' or 'exit'.\n",
      "Chatbot: I'm sorry, I didn't understand that. Try 'buy course' or 'exit'.\n",
      "Chatbot: I'm sorry, I didn't understand that. Try 'buy course' or 'exit'.\n"
     ]
    }
   ],
   "source": [
    "\n",
    "while True:\n",
    "    user_input = input(\"User: \").lower()\n",
    "    \n",
    "    if \"buy course\" in user_input:\n",
    "        # Purchase course flow\n",
    "        course_name = \"Blockchain Fundamentals\"\n",
    "        price_xrp = 10.0\n",
    "        show_payment_instructions(course_name, price_xrp)\n",
    "    \n",
    "    elif \"transaction hash\" in user_input:\n",
    "        # Verify payment\n",
    "        transaction_hash = input(\"Please enter the transaction hash: \")\n",
    "        if verify_payment(transaction_hash, 10.0):\n",
    "            print(\"Access granted! You will receive the course materials shortly.\")\n",
    "        else:\n",
    "            print(\"Payment verification failed. Please try again.\")\n",
    "    \n",
    "    elif \"exit\" in user_input:\n",
    "        print(\"Exiting chatbot. Goodbye!\")\n",
    "        break\n",
    "    else:\n",
    "        print(\"Chatbot: I'm sorry, I didn't understand that. Try 'buy course' or 'exit'.\")\n"
   ]
  }
 ],
 "metadata": {
  "kernelspec": {
   "display_name": "meu_venv",
   "language": "python",
   "name": "python3"
  },
  "language_info": {
   "codemirror_mode": {
    "name": "ipython",
    "version": 3
   },
   "file_extension": ".py",
   "mimetype": "text/x-python",
   "name": "python",
   "nbconvert_exporter": "python",
   "pygments_lexer": "ipython3",
   "version": "3.12.3"
  }
 },
 "nbformat": 4,
 "nbformat_minor": 5
}
